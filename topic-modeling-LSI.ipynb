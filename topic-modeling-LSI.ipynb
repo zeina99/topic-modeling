{
 "cells": [
  {
   "cell_type": "code",
   "execution_count": 143,
   "metadata": {
    "tags": []
   },
   "outputs": [],
   "source": [
    "import numpy as np\n",
    "import pandas as pd\n",
    "\n",
    "import re\n",
    "from nltk.corpus import stopwords\n",
    "import nltk\n",
    "import gensim\n",
    "import gensim.corpora as corpora\n",
    "from gensim.models import CoherenceModel, LsiModel, LdaModel\n",
    "\n",
    "from nltk.stem import WordNetLemmatizer\n",
    "stop_words = stopwords.words('english')"
   ]
  },
  {
   "cell_type": "code",
   "execution_count": 144,
   "metadata": {},
   "outputs": [
    {
     "output_type": "execute_result",
     "data": {
      "text/plain": "      web_id                                   property_text_en\n0    7023850  Smart Business Real Estate is proud to present...\n1    6905802  My Island Real Estate is proud to present 1 Be...\n2    6998469  New on the market, amazing opportunity for inv...\n3    6766136  1 Bedroom Apartment in Marina Diamond 2\\n\\n- 1...\n4    6940244  No penalty for early contract termination!<br ...\n..       ...                                                ...\n756  6203680  Castles Plaza Real Estate is pleased to bring ...\n757  7090736  The Noble House Real Estate is proud to presen...\n758  7081426  Better Homes would like to present this type 2...\n759  7123539  Morgan‚Äôs International Realty is proud to pr...\n760  7113525  3 Bedroom in Al Reem 1, Arabian Ranches, direc...\n\n[761 rows x 2 columns]",
      "text/html": "<div>\n<style scoped>\n    .dataframe tbody tr th:only-of-type {\n        vertical-align: middle;\n    }\n\n    .dataframe tbody tr th {\n        vertical-align: top;\n    }\n\n    .dataframe thead th {\n        text-align: right;\n    }\n</style>\n<table border=\"1\" class=\"dataframe\">\n  <thead>\n    <tr style=\"text-align: right;\">\n      <th></th>\n      <th>web_id</th>\n      <th>property_text_en</th>\n    </tr>\n  </thead>\n  <tbody>\n    <tr>\n      <th>0</th>\n      <td>7023850</td>\n      <td>Smart Business Real Estate is proud to present...</td>\n    </tr>\n    <tr>\n      <th>1</th>\n      <td>6905802</td>\n      <td>My Island Real Estate is proud to present 1 Be...</td>\n    </tr>\n    <tr>\n      <th>2</th>\n      <td>6998469</td>\n      <td>New on the market, amazing opportunity for inv...</td>\n    </tr>\n    <tr>\n      <th>3</th>\n      <td>6766136</td>\n      <td>1 Bedroom Apartment in Marina Diamond 2\\n\\n- 1...</td>\n    </tr>\n    <tr>\n      <th>4</th>\n      <td>6940244</td>\n      <td>No penalty for early contract termination!&lt;br ...</td>\n    </tr>\n    <tr>\n      <th>...</th>\n      <td>...</td>\n      <td>...</td>\n    </tr>\n    <tr>\n      <th>756</th>\n      <td>6203680</td>\n      <td>Castles Plaza Real Estate is pleased to bring ...</td>\n    </tr>\n    <tr>\n      <th>757</th>\n      <td>7090736</td>\n      <td>The Noble House Real Estate is proud to presen...</td>\n    </tr>\n    <tr>\n      <th>758</th>\n      <td>7081426</td>\n      <td>Better Homes would like to present this type 2...</td>\n    </tr>\n    <tr>\n      <th>759</th>\n      <td>7123539</td>\n      <td>Morgan‚Äôs International Realty is proud to pr...</td>\n    </tr>\n    <tr>\n      <th>760</th>\n      <td>7113525</td>\n      <td>3 Bedroom in Al Reem 1, Arabian Ranches, direc...</td>\n    </tr>\n  </tbody>\n</table>\n<p>761 rows × 2 columns</p>\n</div>"
     },
     "metadata": {},
     "execution_count": 144
    }
   ],
   "source": [
    "df = pd.read_excel('RealEstate.xlsx')\n",
    "df"
   ]
  },
  {
   "cell_type": "markdown",
   "metadata": {},
   "source": [
    "#### Inspecting the first 8 entries"
   ]
  },
  {
   "cell_type": "code",
   "execution_count": 145,
   "metadata": {
    "tags": []
   },
   "outputs": [
    {
     "output_type": "stream",
     "name": "stdout",
     "text": "Smart Business Real Estate is proud to present2Bedrooms for sale locatedat Dubai MarinaElite Residenceon mid floor over looking court yard.\\n\\nProperty currently Rentedat AED 110,000 till25 of June 2020.\\n\\nElite Residenceis ideally locatedat the middle of Dubai Marina area , close to the Tran stationas well Metro stationnear by .surrounding by lots of cafe and restaurants , Marina Walkpromenade , across streetfew5 *Hotels. Dubai Marinais very popularand most desirable place to live.\\n\\nAt the building available facilities:\\nGym\\nPool\\nSecurity 24/7\\nCovered parking .\\n\\nFor more information or viewing appointment, call:\\nSmart Business Real Estate LLC\\nLandline:+971 4 5808525 / 0503474100\\nEmail: info@sbrealestate.ae\\nBRN 11575\\nORN 2104\n\n\nMy Island Real Estate is proud to present 1 Bedroom Apt. in Dubai Marina with Partial Sea View\\n\\n\\nDubai Marina\\nPrincess Tower\\n1 Bedroom Apartment\\nPartial Sea View\\n922.68 sqft\\nUnfurnished Apartment\\n\\n\\n\\nFor more details, please call 056-9576399or email on tanweer@myislandrealestate.com\\n\\n\\n\\nDubai Marina : \\n\\nDubai Marina is an awe-inspiring city-within-a city that delights residents with its cosmopolitan, free-spirited atmosphere and unique, invigorating lifestyle. It is an urban center on the water comparable to the most exclusive waterfront developments in the world&#39;s leading cities, yet unlike anywhere else in Dubai, the Middle East and even the world.\\n \\n\\n\\n\\nMy Island Real Estate :\\n\\n\\nMy Island Real Estate is your independent real estate agent in Dubai. We have a global network of investors, real estate businesses and project developers. This allows us to offer you a wide range of villas and apartments. When it comes to your investment, we fully take your requirements and goals into account and we will accompany you from A to Z in the purchasing process as well as rentals.\n\n\nNew on the market, amazing opportunity for investors. This apartment offers a spacious living room facing the sea, with 3 bedrooms with balconies, a master bedroom with en-suite bathroom, laundry room, and a powder room. It comes with 2 allocated parking.\\n\\nThe Princess Tower is a 101 story, 413.4 m tall residential-only skyscraper located in the Marina district of Dubai, UAE. Princess Tower is currently the third tallest building in Dubai, after the Burj Khalifa and the Marina 101 and the 29th tallest building in the world.\\n\\nFEATURES AND AMENITIES:\\n\\nCar parking\\nHigh-Speed Elevators\\nFull floor Function area on 97th Floor\\nIndoor &amp; Outdoor Swimming Pools\\nGymnasiums\\nChildren Play Areas\\nBilliard and Table Tennis Rooms\\nSauna Rooms\\n\\nFor further details and viewing please contact 055 577 2724\n\n\n1 Bedroom Apartment in Marina Diamond 2\\n\\n- 1 Bedroom Apartment\\n- 572 Sq. Ft\\n- Vacant Soon\\n- Close to Metro\\n- Easy Access to Marina Walk\\n- Walking Distance to JBR\\n- Pool and Gym\\n- Reference No.: PJM191071\\n- Agent: Daniel Heywood on +971501138670, RERA BRN No. 37490\\n- RERA Permit No. 1363936729\\n\\nThis 1-bedroom apartment in Marina Diamond 2 is offered vacant on transfer.\\n\\nThe property is in immaculate condition and benefits from a large outdoor terrace.\\n\\nMarina Diamond benefits from being walk distance to the metro, marina walk and JBR all the amenities these areas have to offer.\\n\\nMarina Diamond 2 also offers a large outdoor pool, gym, sauna, and steam room.\\n\\nProperty Sales Reference: PJM191071\\n\\nFinance is available on this property through Allsopp &amp; Allsopp Mortgage Services.\\n\\nFor further details or to arrange a viewing appointment please contact our Head Office on +9714294444, alternatively visit our website www.allsoppandallsopp.com.\\n\\nPlease call Daniel Heywood on +971501138670 for more information or to arrange a viewing.\n\n\nNo penalty for early contract termination!<br />\\n*Price varies by duration of stay:\\n12+ month lease: AED 8,000* / mo\\n6 to 12 month lease: AED 11,000* / mo\\n2 to 6 month lease: AED 12,500* / mo\\n1 to 2 month lease: AED 13,500 / mo\\n\\n*Prices quoted are applicable only if billed upfront for the entire duration of the contract. Utilities are included for leases up to 11 months. Prices are exclusive of any taxes.\\n\\nBook online!\\nhttps://www.theblueground.com/furnished-apartments-dubai-uae/marina-jbr-marina-elite-residence-261?utm_source=classified-2\\n\\n<b>Designed With You In Mind</b>\\n\\nThoughtfully designed with bespoke finishes, modern furnishings, and a fully-equipped kitchen, you'll enjoy that ‚ÄúI'm home‚Äù feeling with this Blueground apartment. Whether you're lounging in your beautiful living room streaming the latest and greatest entertainment on the smart TV or premium wireless speaker, or getting some well-earned rest on the superior quality mattress with luxury linens, you'll fall in love with everything this Marina apartment has to offer.This apartment also offers in-apartment laundry. (#DXB261)\\n\\n<p><b>Amenities</b></p>\\n<ul><li>- 24/7 Security</li>\\n<li>- Swimming Pool</li>\\n<li>- Gym</li>\\n<li>- Sauna/Steam Room</li>\\n<li>- Indoor Parking</li>\\n<li>- Private Garden</li>\\n<li>- Garden</li>\\n<li>- Elevator</li>\\n</ul><b>Arrival And Ongoing Support</b><br /><ul><li>- Personally greeted or self check-in</li>\\n<li>- Full Maintenance and Technical Support / cleaning requests at a click of a button</li>\\n</ul><b>Ideally Located</b>\\n\\nThis furnished apartment is situated in Dubai‚Äôs Marina, a popular area because of its waterfront location. The area includes the Dubai Marina Mall featuring a large cinema, eateries and shops. Also, the Marina Walk offers restaurant guests outdoor seating with gorgeous views overlooking the water.\n\n\nPROPERTY DETAILS: \\nDUBAI MARINA \\nELITE RESIDENCE \\n2 BEDROOM \\nSIZE: 1341 SQ.FT \\nPRICE : 90K \\nPAYMENT : 4 CHQS \\nFOR MORE INFORMATION PLEASE 0551365428 OR 528769481 \\nORN: 11927\\nBRN: 42982\\nOWNERS LIST YOUR PROPERTIES WITH US, WE SPECIALISE IN SALES AND RENTALS IN ALL FREEHOLD AND LEASEHOLD AREAS OF DUBAI IN BOTH RESIDENTIAL AND COMMERCIAL\\nINSIGHT PROPERTIES\\nWe are a real estate brokerage company headquartered in Dubai. Established in 2012, we provide the most innovative and cost effective real estate solutions to our clients.\\nWe are one of the fastest growing companies with an objective of acting as professional brokers for buying, selling &amp; leasing of residential and commercial properties in UAE.\\nWe have a team of specialists with the expertise to provide a full range of services in residential and commercial properties in Dubai. Our agents have a reputation for reliability and prudence in providing clients with real estate sales, investment planning, building of property portfolio &amp; leasing services.\n\n\nSmart Business Real Estate is pleased to offer this 2Bedroom apartment in Elite Residence, Dubai Marina.\\n\\n‚Ä¢ Vacant and Ready to Move in:\\n‚Ä¢ 1- 2 chqs\\n‚Ä¢ Sea and Community View\\n‚Ä¢ 2 Bedroom\\n‚Ä¢ Price AED 100,000\\n‚Ä¢ Mid Floor\\n‚Ä¢ Vacant\\n‚Ä¢ Balcony\\n‚Ä¢ Furnished \\n‚Ä¢ Close to the Mina Seyahi Tram stop and DAMAC metro Station \\n‚Ä¢ Closeto Beach\\n Open Kitchen with Appliances\\n‚Ä¢ Master bedroom is En-suite with built in closet\\n‚Ä¢ 1 Parking \\n‚Ä¢ Close to Skydive Dubai \\n\\n Elite Residence is centered in one of the most envied neighborhoods in Dubai.\\n\\nSituated in the heart of one of the most renowned destinations in Dubai and one of its most sought after residential properties. Amongst the world's tallest buildings, Elite Residence reaches high above the exclusive Dubai Marina. The imposing 91-storey tower makes a statement of luxury living in a city that has it all.\\nDubai Sufouh Tram passing directly in front of the tower, Elite residence will offer residents convenient and easy transport connections to Dubai Metro stations along Sheikh Zayed Road.\\n\\nCall:\\nIrina - 0555758838\\nSmart Business Real Estate\\nlisting@sbrealestate.ae\n\n\nGFA Real Estate is proud to present this spacious 2 Bedroom Apartment in Elite Residences, Dubai Marina.\\n\\nSelling Price AED 2,200,000\\n\\n1330 Sq Ft\\nBedroom with en-suited bath\\nBuilt in wardrobes\\nPowder room\\nFull Sea view\\nUpgraded interior\\nHigh Floor\\n\\nApartment is spacious and has been upgraded. Large windows in bedroom and hall with full magnificent sea view. \\namenities such as car-parking, swimming pools, spas, reception areas, health clubs, a business center and a gymnasium.\\nThe skyscraper has 695 apartments, and 12 elevators.\\nElite Residence is a supertall skyscraper in Dubai, United Arab Emirates in the Dubai Marina district, overlooking one of the manmade palm islands, Palm Jumeirah. The building stands 380.5 metres (1,248 ft) tall and has 87 floors.\\n\\n\\n\\nFor Viewing and more info call +971 50 514 8801 / +971 4 874 7619 or visit www.gfarealestate.net\n\n\nThe Elite Residence Tower in Dubai Marina offers a spectacular panoramic sea view and combines convenience, comfort, and luxury with its modern day d√©cor and perfect location. \\n\\nThis beautiful one bed luxury apartment offers a self contained living space with all the facilities you'd expect.\\n\\nWith spacious living room and dining area, fully-fitted kitchen complete with modern facilities, one bedroom with built-in wardrobes, central air-conditioning and 24/7 security services.\\n\\nIncluded in your accommodation is a flat-screen satellite TV and free Wi-Fi access is available in all rooms. This vacation home can accommodate up to 3 people.\\n\\nElite Residence Tower provides indoor and outdoor swimming pools, a fully-equipped gym, children's play area and private parking space.\\n\\nWell located, this property is close to all the leading attractions in Dubai.\\n\\nPRICES MAY VARY DEPENDING ON SEASONS.\\n \\nFor more information please contact us on:\\n\\n+97143380033 / Mr. Sadam: +971526009503/ Mr. Ihshan: +971526404849\n\n\n"
    }
   ],
   "source": [
    "# Inspecting the first 8 entries\n",
    "for entry in df.loc[0:8,'property_text_en']:\n",
    "    print(entry)\n",
    "    print()\n",
    "    print()"
   ]
  },
  {
   "cell_type": "markdown",
   "metadata": {},
   "source": [
    "#### Here we notice the text includes a lot of:\n",
    "- html\n",
    "- '\\n' which means new line\n",
    "- phone numbers starting with + sign \n",
    "    - many formats\n",
    "    - +xxx xx xxx xxxx\n",
    "    - +xxx x xxx xxxx\n",
    "    - +xxxxxxxxxxxx\n",
    "    - xxxxx (continuous block of numbers)\n",
    "    - xxxx,xxxx\n",
    "- special characters\n",
    "- emails\n",
    "\n",
    "So we need to preprocess the data and clean it"
   ]
  },
  {
   "cell_type": "markdown",
   "metadata": {},
   "source": [
    "### Method for getting the relevant pos tag"
   ]
  },
  {
   "cell_type": "code",
   "execution_count": 146,
   "metadata": {},
   "outputs": [],
   "source": [
    "from nltk.corpus import wordnet\n",
    "# method used to get the correct pos tag for correct lemmatization since nltk assumes all words are nouns which results in wrong lemmatization without specifying the correct pos\n",
    "def get_pos(word):\n",
    "    # WordNet Lemmatizer needs a pos to correctly lemmatize words. \n",
    "    # WordNet accepts pos in formats: 'wordnet.NOUN' 'wordnet.VERB' 'wordnet.ADJ' 'wordnet.ADV' for noun, verb, adj, adverb, respectively\n",
    "    # to map nltk pos tags to wordnet pos tags we get the first letter out of the nltk pos tag and map it to a wordnet tag\n",
    "\n",
    "    # get the nltk pos tag \n",
    "    pos = nltk.pos_tag([word])\n",
    "    #outputs: [('playing', 'VBG')]\n",
    "\n",
    "    # get the first letter of the nltk pos tag\n",
    "    pos = pos[0][1][0]\n",
    "\n",
    "    pos_tags = {\n",
    "        \"N\": wordnet.NOUN,\n",
    "        \"V\": wordnet.VERB,\n",
    "        \"J\": wordnet.ADJ,\n",
    "        \"R\": wordnet.ADV,\n",
    "        \"default\": wordnet.NOUN\n",
    "    }\n",
    "    # if the pos tag doesnt match any key, return wordnet.NOUN as a default\n",
    "    return pos_tags.get(pos, pos_tags['default'])\n",
    "    \n"
   ]
  },
  {
   "cell_type": "markdown",
   "metadata": {},
   "source": [
    "### Method for preprocessing each document"
   ]
  },
  {
   "cell_type": "code",
   "execution_count": 147,
   "metadata": {
    "tags": []
   },
   "outputs": [],
   "source": [
    "\n",
    "def preprocessing(document):\n",
    "    document = document.lower()\n",
    "\n",
    "    #removing the html\n",
    "    document = re.sub(r'(\\<[ ]?[a-z]+>|\\<\\/[a-z]+\\>)', ' ', document)\n",
    "    # noticed that '<' stayed for some reason, so removing them\n",
    "    document = re.sub(r'<', ' ', document)\n",
    "    \n",
    "    # removing emails\n",
    "    document = re.sub(r'\\S+@\\S+', ' ', document)\n",
    "    # removing \\n\n",
    "    document = re.sub(r'(\\\\n)', \" \", document)\n",
    "    # removing numbers of this formats:\n",
    "    # - xxxx,xxxx (numbers with commas)\n",
    "    document = re.sub(r'(\\d+),(\\d+),?(\\d*)', \" \", document)\n",
    "    # removing numbers of all other formats\n",
    "    document = re.sub(r'(\\+)?\\d+[ ]?\\d*[ ]?\\d*[ ]?\\d*', ' ', document)\n",
    "    # removing characters like ? ! : ; \\n \\\n",
    "    document = re.sub('[*.?!,:;/&]', ' ', document)\n",
    "    # removal of --\n",
    "    document = re.sub(r'--',\" \", document)\n",
    "\n",
    "    document = \" \".join([word for word in document.split() if len(word) > 3 ])\n",
    "    \n",
    "    document = \" \".join([word for word in document.split() if word not in stop_words])\n",
    "    \n",
    "    document = \" \".join([WordNetLemmatizer().lemmatize(word, get_pos(word)) for word in document.split()])\n",
    "    \n",
    "    return document"
   ]
  },
  {
   "cell_type": "code",
   "execution_count": 148,
   "metadata": {
    "tags": []
   },
   "outputs": [
    {
     "output_type": "execute_result",
     "data": {
      "text/plain": "'be'"
     },
     "metadata": {},
     "execution_count": 148
    }
   ],
   "source": [
    "# example of lemmatization\n",
    "word = WordNetLemmatizer().lemmatize('being', pos=wordnet.VERB)\n",
    "word"
   ]
  },
  {
   "cell_type": "code",
   "execution_count": 149,
   "metadata": {
    "tags": []
   },
   "outputs": [],
   "source": [
    "# apply the method on the documents column\n",
    "df['property_text_en'] = df['property_text_en'].apply(preprocessing)\n"
   ]
  },
  {
   "cell_type": "markdown",
   "metadata": {},
   "source": [
    "Lets see how the text changed after preprocessing"
   ]
  },
  {
   "cell_type": "code",
   "execution_count": 150,
   "metadata": {
    "tags": []
   },
   "outputs": [
    {
     "output_type": "stream",
     "name": "stdout",
     "text": "smart business real estate proud present bedroom sale locatedat dubai marinaelite residenceon floor look court yard property currently rentedat till june elite residenceis ideally locatedat middle dubai marina area close tran stationas well metro stationnear surround lot cafe restaurant marina walkpromenade across streetfew hotel dubai marinais popularand desirable place live building available facility pool security cover parking information view appointment call smart business real estate landline email\n\n\nisland real estate proud present bedroom dubai marina partial view dubai marina princess tower bedroom apartment partial view sqft unfurnished apartment detail please call email marina dubai marina awe-inspiring city-within-a city delight resident cosmopolitan free-spirited atmosphere unique invigorate lifestyle urban center water comparable exclusive waterfront development world lead city unlike anywhere else dubai middle east even world island real estate island real estate independent real estate agent dubai global network investor real estate business project developer allows offer wide range villa apartment come investment fully take requirement goal account accompany purchasing process well rental\n\n\nmarket amaze opportunity investor apartment offer spacious living room face bedroom balcony master bedroom en-suite bathroom laundry room powder room come allocate parking princess tower story tall residential-only skyscraper locate marina district dubai princess tower currently third tallest building dubai burj khalifa marina tallest building world feature amenity parking high-speed elevator full floor function area floor indoor outdoor swim pool gymnasium child play area billiard table tennis room sauna room detail view please contact\n\n\nbedroom apartment marina diamond bedroom apartment vacant soon close metro easy access marina walk walk distance pool reference agent daniel heywood rera rera permit -bedroom apartment marina diamond offer vacant transfer property immaculate condition benefit large outdoor terrace marina diamond benefit walk distance metro marina walk amenity area offer marina diamond also offer large outdoor pool sauna steam room property sale reference finance available property allsopp allsopp mortgage service detail arrange view appointment please contact head office alternatively visit website allsoppandallsopp please call daniel heywood information arrange view\n\n\npenalty early contract termination price varies duration stay month lease month lease month lease month lease price quote applicable bill upfront entire duration contract utility include lease month price exclusive tax book online http theblueground furnished-apartments-dubai-uae marina-jbr-marina-elite-residence- utm_source=classified- design mind thoughtfully design bespoke finish modern furnishing fully-equipped kitchen enjoy ‚äúi'm home‚äù feel blueground apartment whether lounge beautiful living room stream late great entertainment smart premium wireless speaker get well-earned rest superior quality mattress luxury linen fall love everything marina apartment offer apartment also offer in-apartment laundry (#dxb amenity security swim pool sauna steam room indoor parking private garden garden elevator arrival ongoing support personally greet self check-in full maintenance technical support cleaning request click button ideally locate furnish apartment situate dubai‚äôs marina popular area waterfront location area include dubai marina mall feature large cinema eatery shop also marina walk offer restaurant guest outdoor seat gorgeous view overlook water\n\n\nproperty detail dubai marina elite residence bedroom size price payment chqs information please owner list property specialise sale rental freehold leasehold area dubai residential commercial insight property real estate brokerage company headquarter dubai establish provide innovative cost effective real estate solution client fast grow company objective act professional broker buying sell lease residential commercial property team specialist expertise provide full range service residential commercial property dubai agent reputation reliability prudence provide client real estate sale investment planning building property portfolio lease service\n\n\nsmart business real estate pleased offer bedroom apartment elite residence dubai marina vacant ready move chqs community view bedroom price floor vacant balcony furnish close mina seyahi tram stop damac metro station closeto beach open kitchen appliance master bedroom en-suite built closet parking close skydive dubai elite residence center envy neighborhood dubai situate heart renowned destination dubai sought residential property amongst world's tallest building elite residence reach high exclusive dubai marina impose -storey tower make statement luxury living city dubai sufouh tram passing directly front tower elite residence offer resident convenient easy transport connection dubai metro station along sheikh zayed road call irina smart business real\n\n\nreal estate proud present spacious bedroom apartment elite residence dubai marina sell price bedroom en-suited bath built wardrobe powder room full view upgraded interior high floor apartment spacious upgraded large window bedroom hall full magnificent view amenity car-parking swim pool spa reception area health club business center gymnasium skyscraper apartment elevator elite residence supertall skyscraper dubai united arab emirate dubai marina district overlook manmade palm island palm jumeirah building stand metre tall floor view info call visit gfarealestate\n\n\nelite residence tower dubai marina offer spectacular panoramic view combine convenience comfort luxury modern d√©cor perfect location beautiful luxury apartment offer self contain living space facility expect spacious living room din area fully-fitted kitchen complete modern facility bedroom built-in wardrobe central air-conditioning security service include accommodation flat-screen satellite free wi-fi access available room vacation home accommodate people elite residence tower provide indoor outdoor swim pool fully-equipped children's play area private parking space well locate property close lead attraction dubai price vary depend season information please contact sadam ihshan\n\n\n"
    }
   ],
   "source": [
    "for document in df.loc[0:8,'property_text_en']:\n",
    "    print(document)\n",
    "    print()\n",
    "    print()"
   ]
  },
  {
   "cell_type": "code",
   "execution_count": 152,
   "metadata": {},
   "outputs": [],
   "source": [
    "text = df['property_text_en'].tolist()\n",
    "text_tokenized = [nltk.word_tokenize(doc) for doc in text]"
   ]
  },
  {
   "cell_type": "code",
   "execution_count": 177,
   "metadata": {},
   "outputs": [],
   "source": [
    "# preparing inputs for the LSI model\n",
    "dictionary = corpora.Dictionary(text_tokenized)"
   ]
  },
  {
   "cell_type": "code",
   "execution_count": 179,
   "metadata": {
    "tags": []
   },
   "outputs": [
    {
     "output_type": "stream",
     "name": "stdout",
     "text": "[(0, 1), (1, 1), (2, 1), (3, 1), (4, 1), (5, 1), (6, 2), (7, 1), (8, 1), (9, 1), (10, 1), (11, 1), (12, 1), (13, 1), (14, 3), (15, 1), (16, 1), (17, 2), (18, 1), (19, 1), (20, 1), (21, 1), (22, 1), (23, 1), (24, 1), (25, 1), (26, 2), (27, 1), (28, 1), (29, 2), (30, 1), (31, 1), (32, 1), (33, 1), (34, 1), (35, 1), (36, 1), (37, 1), (38, 1), (39, 1), (40, 1), (41, 2), (42, 1), (43, 1), (44, 1), (45, 1), (46, 1), (47, 1), (48, 2), (49, 1), (50, 1), (51, 1), (52, 1), (53, 1), (54, 1), (55, 1), (56, 1), (57, 1), (58, 1)] \n\n[(4, 2), (6, 1), (8, 1), (14, 5), (16, 1), (17, 5), (29, 4), (33, 1), (38, 1), (40, 1), (41, 5), (55, 2), (57, 1), (59, 1), (60, 1), (61, 1), (62, 1), (63, 1), (64, 3), (65, 1), (66, 1), (67, 1), (68, 2), (69, 1), (70, 1), (71, 1), (72, 1), (73, 1), (74, 1), (75, 1), (76, 1), (77, 1), (78, 1), (79, 1), (80, 1), (81, 1), (82, 1), (83, 1), (84, 1), (85, 1), (86, 1), (87, 1), (88, 1), (89, 3), (90, 1), (91, 1), (92, 1), (93, 1), (94, 2), (95, 1), (96, 1), (97, 1), (98, 1), (99, 1), (100, 1), (101, 1), (102, 1), (103, 1), (104, 1), (105, 1), (106, 1), (107, 1), (108, 1), (109, 1), (110, 1), (111, 1), (112, 1), (113, 1), (114, 1), (115, 2)] \n\n"
    }
   ],
   "source": [
    "corpus = [dictionary.doc2bow(doc) for doc in text_tokenized]\n",
    "# document-term frequency for first 2 documents\n",
    "for doc in corpus[0:2]:\n",
    "    print(doc,'\\n')\n",
    "# (0,1) -> word-id 0 occurs 1 time in the first document"
   ]
  },
  {
   "cell_type": "markdown",
   "metadata": {},
   "source": [
    "### Initializing the LSI model"
   ]
  },
  {
   "cell_type": "code",
   "execution_count": 216,
   "metadata": {},
   "outputs": [],
   "source": [
    "lsimodel = LsiModel(corpus=corpus, num_topics=10, id2word=dictionary)"
   ]
  },
  {
   "cell_type": "markdown",
   "metadata": {},
   "source": [
    "### Inspecting the U matrix"
   ]
  },
  {
   "cell_type": "code",
   "execution_count": 190,
   "metadata": {},
   "outputs": [
    {
     "output_type": "execute_result",
     "data": {
      "text/plain": "             0         1         2         3         4         5         6  \\\n14    0.395613 -0.306558  0.179144 -0.164529  0.092363  0.355959  0.201438   \n29    0.383955 -0.362382  0.303764 -0.151923 -0.166626 -0.170040 -0.109949   \n55    0.232085  0.187964 -0.000206 -0.023951 -0.031610 -0.228445  0.211557   \n64    0.217057 -0.077603  0.064340 -0.012146 -0.143119 -0.010257  0.163825   \n106   0.212777 -0.200079 -0.507520 -0.156112 -0.025199 -0.146552  0.013174   \n...        ...       ...       ...       ...       ...       ...       ...   \n2528  0.000030  0.000235  0.000046 -0.000151  0.000024 -0.000193  0.000205   \n2529  0.000030  0.000235  0.000046 -0.000151  0.000024 -0.000193  0.000205   \n2530  0.000030  0.000235  0.000046 -0.000151  0.000024 -0.000193  0.000205   \n2531  0.000030  0.000235  0.000046 -0.000151  0.000024 -0.000193  0.000205   \n2526  0.000030  0.000235  0.000046 -0.000151  0.000024 -0.000193  0.000205   \n\n             7         8         9  \n14    0.236546 -0.142905  0.084133  \n29    0.024479  0.022700  0.123919  \n55   -0.221252 -0.127181 -0.133902  \n64   -0.481375  0.184774 -0.002238  \n106   0.135836  0.102806 -0.083934  \n...        ...       ...       ...  \n2528 -0.000022 -0.000463 -0.000368  \n2529 -0.000022 -0.000463 -0.000368  \n2530 -0.000022 -0.000463 -0.000368  \n2531 -0.000022 -0.000463 -0.000368  \n2526 -0.000022 -0.000463 -0.000368  \n\n[3831 rows x 10 columns]",
      "text/html": "<div>\n<style scoped>\n    .dataframe tbody tr th:only-of-type {\n        vertical-align: middle;\n    }\n\n    .dataframe tbody tr th {\n        vertical-align: top;\n    }\n\n    .dataframe thead th {\n        text-align: right;\n    }\n</style>\n<table border=\"1\" class=\"dataframe\">\n  <thead>\n    <tr style=\"text-align: right;\">\n      <th></th>\n      <th>0</th>\n      <th>1</th>\n      <th>2</th>\n      <th>3</th>\n      <th>4</th>\n      <th>5</th>\n      <th>6</th>\n      <th>7</th>\n      <th>8</th>\n      <th>9</th>\n    </tr>\n  </thead>\n  <tbody>\n    <tr>\n      <th>14</th>\n      <td>0.395613</td>\n      <td>-0.306558</td>\n      <td>0.179144</td>\n      <td>-0.164529</td>\n      <td>0.092363</td>\n      <td>0.355959</td>\n      <td>0.201438</td>\n      <td>0.236546</td>\n      <td>-0.142905</td>\n      <td>0.084133</td>\n    </tr>\n    <tr>\n      <th>29</th>\n      <td>0.383955</td>\n      <td>-0.362382</td>\n      <td>0.303764</td>\n      <td>-0.151923</td>\n      <td>-0.166626</td>\n      <td>-0.170040</td>\n      <td>-0.109949</td>\n      <td>0.024479</td>\n      <td>0.022700</td>\n      <td>0.123919</td>\n    </tr>\n    <tr>\n      <th>55</th>\n      <td>0.232085</td>\n      <td>0.187964</td>\n      <td>-0.000206</td>\n      <td>-0.023951</td>\n      <td>-0.031610</td>\n      <td>-0.228445</td>\n      <td>0.211557</td>\n      <td>-0.221252</td>\n      <td>-0.127181</td>\n      <td>-0.133902</td>\n    </tr>\n    <tr>\n      <th>64</th>\n      <td>0.217057</td>\n      <td>-0.077603</td>\n      <td>0.064340</td>\n      <td>-0.012146</td>\n      <td>-0.143119</td>\n      <td>-0.010257</td>\n      <td>0.163825</td>\n      <td>-0.481375</td>\n      <td>0.184774</td>\n      <td>-0.002238</td>\n    </tr>\n    <tr>\n      <th>106</th>\n      <td>0.212777</td>\n      <td>-0.200079</td>\n      <td>-0.507520</td>\n      <td>-0.156112</td>\n      <td>-0.025199</td>\n      <td>-0.146552</td>\n      <td>0.013174</td>\n      <td>0.135836</td>\n      <td>0.102806</td>\n      <td>-0.083934</td>\n    </tr>\n    <tr>\n      <th>...</th>\n      <td>...</td>\n      <td>...</td>\n      <td>...</td>\n      <td>...</td>\n      <td>...</td>\n      <td>...</td>\n      <td>...</td>\n      <td>...</td>\n      <td>...</td>\n      <td>...</td>\n    </tr>\n    <tr>\n      <th>2528</th>\n      <td>0.000030</td>\n      <td>0.000235</td>\n      <td>0.000046</td>\n      <td>-0.000151</td>\n      <td>0.000024</td>\n      <td>-0.000193</td>\n      <td>0.000205</td>\n      <td>-0.000022</td>\n      <td>-0.000463</td>\n      <td>-0.000368</td>\n    </tr>\n    <tr>\n      <th>2529</th>\n      <td>0.000030</td>\n      <td>0.000235</td>\n      <td>0.000046</td>\n      <td>-0.000151</td>\n      <td>0.000024</td>\n      <td>-0.000193</td>\n      <td>0.000205</td>\n      <td>-0.000022</td>\n      <td>-0.000463</td>\n      <td>-0.000368</td>\n    </tr>\n    <tr>\n      <th>2530</th>\n      <td>0.000030</td>\n      <td>0.000235</td>\n      <td>0.000046</td>\n      <td>-0.000151</td>\n      <td>0.000024</td>\n      <td>-0.000193</td>\n      <td>0.000205</td>\n      <td>-0.000022</td>\n      <td>-0.000463</td>\n      <td>-0.000368</td>\n    </tr>\n    <tr>\n      <th>2531</th>\n      <td>0.000030</td>\n      <td>0.000235</td>\n      <td>0.000046</td>\n      <td>-0.000151</td>\n      <td>0.000024</td>\n      <td>-0.000193</td>\n      <td>0.000205</td>\n      <td>-0.000022</td>\n      <td>-0.000463</td>\n      <td>-0.000368</td>\n    </tr>\n    <tr>\n      <th>2526</th>\n      <td>0.000030</td>\n      <td>0.000235</td>\n      <td>0.000046</td>\n      <td>-0.000151</td>\n      <td>0.000024</td>\n      <td>-0.000193</td>\n      <td>0.000205</td>\n      <td>-0.000022</td>\n      <td>-0.000463</td>\n      <td>-0.000368</td>\n    </tr>\n  </tbody>\n</table>\n<p>3831 rows × 10 columns</p>\n</div>"
     },
     "metadata": {},
     "execution_count": 190
    }
   ],
   "source": [
    "u_df = pd.DataFrame(data= lsimodel.projection.u)\n",
    "# sort by column 0\n",
    "u_df.sort_values(axis= 0, by= 0, ascending= False)"
   ]
  },
  {
   "cell_type": "markdown",
   "metadata": {},
   "source": [
    "We can see here that the words with ids 14,29,55 relate most to topic 0"
   ]
  },
  {
   "cell_type": "code",
   "execution_count": 194,
   "metadata": {
    "tags": []
   },
   "outputs": [
    {
     "output_type": "stream",
     "name": "stdout",
     "text": "word with id 14 is: dubai\nword with id 29 is: marina\nword with id 55 is: view\n"
    }
   ],
   "source": [
    "ids = [14,29,55]\n",
    "for id in ids:\n",
    "    print(f'word with id {id} is: {dictionary[id]}')"
   ]
  },
  {
   "cell_type": "markdown",
   "metadata": {},
   "source": [
    "Which does make sense, since those words appear a lot in the corpus"
   ]
  },
  {
   "cell_type": "markdown",
   "metadata": {},
   "source": [
    "### Inspecting the S matrix"
   ]
  },
  {
   "cell_type": "code",
   "execution_count": 195,
   "metadata": {},
   "outputs": [
    {
     "output_type": "execute_result",
     "data": {
      "text/plain": "            0\n0  199.764581\n1   72.147969\n2   67.471718\n3   62.997631\n4   55.209460\n5   48.759355\n6   45.512727\n7   43.436362\n8   40.246567\n9   38.177323",
      "text/html": "<div>\n<style scoped>\n    .dataframe tbody tr th:only-of-type {\n        vertical-align: middle;\n    }\n\n    .dataframe tbody tr th {\n        vertical-align: top;\n    }\n\n    .dataframe thead th {\n        text-align: right;\n    }\n</style>\n<table border=\"1\" class=\"dataframe\">\n  <thead>\n    <tr style=\"text-align: right;\">\n      <th></th>\n      <th>0</th>\n    </tr>\n  </thead>\n  <tbody>\n    <tr>\n      <th>0</th>\n      <td>199.764581</td>\n    </tr>\n    <tr>\n      <th>1</th>\n      <td>72.147969</td>\n    </tr>\n    <tr>\n      <th>2</th>\n      <td>67.471718</td>\n    </tr>\n    <tr>\n      <th>3</th>\n      <td>62.997631</td>\n    </tr>\n    <tr>\n      <th>4</th>\n      <td>55.209460</td>\n    </tr>\n    <tr>\n      <th>5</th>\n      <td>48.759355</td>\n    </tr>\n    <tr>\n      <th>6</th>\n      <td>45.512727</td>\n    </tr>\n    <tr>\n      <th>7</th>\n      <td>43.436362</td>\n    </tr>\n    <tr>\n      <th>8</th>\n      <td>40.246567</td>\n    </tr>\n    <tr>\n      <th>9</th>\n      <td>38.177323</td>\n    </tr>\n  </tbody>\n</table>\n</div>"
     },
     "metadata": {},
     "execution_count": 195
    }
   ],
   "source": [
    "s_df = pd.DataFrame(data= lsimodel.projection.s)\n",
    "s_df"
   ]
  },
  {
   "cell_type": "markdown",
   "metadata": {},
   "source": [
    "Since we have specified the number of topics as 10, we got 10 singular values.\n",
    "\n",
    "This matrix ranks by importance of topic, so topic 0 is the most important and topic 9 is the least important"
   ]
  },
  {
   "cell_type": "markdown",
   "metadata": {},
   "source": [
    "### Inspecting the V matrix"
   ]
  },
  {
   "cell_type": "code",
   "execution_count": 213,
   "metadata": {
    "tags": []
   },
   "outputs": [],
   "source": [
    "# V = gensim.matutils.corpus2dense(lsimodel[corpus], len(lsimodel.projection.s)).T / lsimodel.projection.s\n",
    "# v_df = pd.DataFrame(data = V)\n",
    "# v_df.sort_values(by=8, ascending=False)"
   ]
  },
  {
   "cell_type": "markdown",
   "metadata": {},
   "source": [
    "### Most important topics in the corpus"
   ]
  },
  {
   "cell_type": "code",
   "execution_count": 217,
   "metadata": {},
   "outputs": [
    {
     "output_type": "execute_result",
     "data": {
      "text/plain": "[(0,\n  '0.396*\"dubai\" + 0.384*\"marina\" + 0.232*\"view\" + 0.217*\"apartment\" + 0.213*\"tower\" + 0.192*\"bedroom\" + 0.178*\"room\" + 0.168*\"area\" + 0.162*\"property\" + 0.158*\"floor\"'),\n (1,\n  '-0.362*\"marina\" + -0.307*\"dubai\" + 0.256*\"bedroom\" + 0.253*\"property\" + -0.200*\"tower\" + 0.198*\"room\" + 0.188*\"view\" + 0.156*\"study\" + 0.138*\"bathroom\" + 0.138*\"garden\"'),\n (2,\n  '0.508*\"tower\" + 0.334*\"princess\" + -0.304*\"marina\" + 0.294*\"floor\" + -0.179*\"dubai\" + 0.154*\"residential\" + -0.147*\"walk\" + 0.146*\"tallest\" + -0.136*\"property\" + 0.129*\"world\"'),\n (3,\n  '0.429*\"elite\" + 0.421*\"residence\" + -0.235*\"estate\" + -0.234*\"real\" + 0.213*\"room\" + -0.200*\"property\" + -0.165*\"dubai\" + -0.156*\"tower\" + -0.152*\"marina\" + 0.146*\"pool\"'),\n (4,\n  '0.392*\"real\" + 0.390*\"estate\" + 0.320*\"elite\" + 0.303*\"residence\" + -0.170*\"walk\" + -0.167*\"marina\" + 0.162*\"service\" + 0.158*\"property\" + -0.156*\"room\" + -0.143*\"apartment\"'),\n (5,\n  '-0.372*\"room\" + -0.356*\"dubai\" + 0.228*\"view\" + 0.205*\"walk\" + 0.170*\"marina\" + 0.157*\"call\" + 0.147*\"tower\" + -0.136*\"jumeirah\" + 0.130*\"please\" + 0.129*\"available\"'),\n (6,\n  '-0.309*\"walk\" + -0.253*\"real\" + -0.247*\"estate\" + 0.212*\"view\" + -0.205*\"station\" + 0.202*\"dubai\" + -0.182*\"room\" + -0.180*\"beach\" + 0.164*\"apartment\" + -0.162*\"pool\"'),\n (7,\n  '-0.481*\"apartment\" + 0.237*\"dubai\" + -0.221*\"view\" + -0.167*\"real\" + -0.160*\"estate\" + 0.159*\"ranch\" + 0.157*\"villa\" + 0.153*\"world\" + 0.153*\"community\" + 0.152*\"study\"'),\n (8,\n  '0.287*\"property\" + -0.205*\"kitchen\" + -0.185*\"apartment\" + 0.184*\"jumeirah\" + -0.164*\"large\" + 0.152*\"floor\" + -0.148*\"estate\" + -0.148*\"real\" + -0.145*\"tallest\" + 0.143*\"dubai\"'),\n (9,\n  '0.329*\"bedroom\" + 0.284*\"floor\" + -0.262*\"property\" + -0.236*\"room\" + -0.191*\"princess\" + -0.155*\"world\" + 0.147*\"exclusive\" + 0.143*\"unit\" + -0.134*\"view\" + 0.124*\"marina\"')]"
     },
     "metadata": {},
     "execution_count": 217
    }
   ],
   "source": [
    "lsimodel.show_topics(num_topics=10)"
   ]
  },
  {
   "cell_type": "code",
   "execution_count": 252,
   "metadata": {
    "tags": []
   },
   "outputs": [
    {
     "output_type": "stream",
     "name": "stdout",
     "text": "\nCoherence Score:  0.43105337640086844\n"
    }
   ],
   "source": [
    "lsitopics = [[word for word, prob in topic]\n",
    "             for topicid, topic in lsimodel.show_topics(formatted=False)]\n",
    "\n",
    "coherence_model_lsi = CoherenceModel( model=lsimodel,texts=text_tokenized, dictionary=dictionary, coherence='c_v', topics = lsitopics )\n",
    "coherence_lsi = coherence_model_lsi.get_coherence()\n",
    "print('\\nCoherence Score: ', coherence_lsi)\n"
   ]
  },
  {
   "cell_type": "markdown",
   "metadata": {},
   "source": [
    "The higher the coherence score, the better.\n",
    "We got a coherence score of 0.43 , which can be further improved\n"
   ]
  },
  {
   "cell_type": "markdown",
   "metadata": {},
   "source": [
    "### Querying the lsi model to get relevant documents"
   ]
  },
  {
   "cell_type": "code",
   "execution_count": 239,
   "metadata": {
    "tags": []
   },
   "outputs": [
    {
     "output_type": "execute_result",
     "data": {
      "text/plain": "[(0, 0.4797129720563416),\n (1, 0.5115215048363576),\n (2, -0.011951011362102469),\n (3, -0.039910471585753046),\n (4, -0.23176682432645468),\n (5, 0.3186853954058226),\n (6, 0.36022834036304147),\n (7, -0.2744119081399116),\n (8, -0.08750029836058071),\n (9, 0.1635112213392335)]"
     },
     "metadata": {},
     "execution_count": 239
    }
   ],
   "source": [
    "# performing queries\n",
    "# https://radimrehurek.com/gensim//auto_examples/core/run_similarity_queries.html#sphx-glr-auto-examples-core-run-similarity-queries-py\n",
    "\n",
    "query = 'spacious bedroom with sea view'\n",
    "vec_bow = dictionary.doc2bow(query.lower().split())\n",
    "\n",
    "# convert the query to LSI space\n",
    "vec_lsi = lsimodel[vec_bow]  \n",
    "# This shows how the query relates to the 10 topics\n",
    "vec_lsi"
   ]
  },
  {
   "cell_type": "code",
   "execution_count": 240,
   "metadata": {},
   "outputs": [],
   "source": [
    "from gensim import similarities\n",
    "index = similarities.MatrixSimilarity(lsimodel[corpus]) # transform corpus to LSI space and index it\n",
    "# index.save('/tmp/deerwester.index')\n",
    "# index = similarities.MatrixSimilarity.load('/tmp/deerwester.index')\n"
   ]
  },
  {
   "cell_type": "code",
   "execution_count": 241,
   "metadata": {
    "tags": []
   },
   "outputs": [
    {
     "output_type": "stream",
     "name": "stdout",
     "text": "Similarity of query: spacious bedroom with sea view \n\ndoc number: 141    has similarity of 0.97095\ndoc number: 134    has similarity of 0.9362675\ndoc number: 148    has similarity of 0.9288845\ndoc number: 216    has similarity of 0.8921453\ndoc number: 23    has similarity of 0.8730042\ndoc number: 39    has similarity of 0.8586298\ndoc number: 289    has similarity of 0.85724294\ndoc number: 241    has similarity of 0.8534188\ndoc number: 207    has similarity of 0.84829426\ndoc number: 307    has similarity of 0.84438956\ndoc number: 457    has similarity of 0.8438725\ndoc number: 106    has similarity of 0.83653474\ndoc number: 109    has similarity of 0.83057046\ndoc number: 330    has similarity of 0.8287505\ndoc number: 747    has similarity of 0.8244047\ndoc number: 384    has similarity of 0.81013954\ndoc number: 629    has similarity of 0.8086602\ndoc number: 42    has similarity of 0.8052194\ndoc number: 156    has similarity of 0.8049013\ndoc number: 242    has similarity of 0.80347186\ndoc number: 281    has similarity of 0.80064166\ndoc number: 347    has similarity of 0.79082984\ndoc number: 706    has similarity of 0.7907955\ndoc number: 352    has similarity of 0.7886175\ndoc number: 750    has similarity of 0.7805171\ndoc number: 455    has similarity of 0.77899975\ndoc number: 276    has similarity of 0.7693183\ndoc number: 328    has similarity of 0.76893884\ndoc number: 375    has similarity of 0.76250184\ndoc number: 481    has similarity of 0.7610744\ndoc number: 456    has similarity of 0.75895727\ndoc number: 492    has similarity of 0.7568069\ndoc number: 159    has similarity of 0.7535555\ndoc number: 705    has similarity of 0.75315315\ndoc number: 593    has similarity of 0.75293946\ndoc number: 421    has similarity of 0.75105363\ndoc number: 223    has similarity of 0.7507596\ndoc number: 690    has similarity of 0.74674684\ndoc number: 698    has similarity of 0.7466635\ndoc number: 614    has similarity of 0.74252385\ndoc number: 454    has similarity of 0.74244833\ndoc number: 585    has similarity of 0.7423203\ndoc number: 532    has similarity of 0.7404984\ndoc number: 90    has similarity of 0.7390633\ndoc number: 244    has similarity of 0.7383249\ndoc number: 547    has similarity of 0.7364869\ndoc number: 391    has similarity of 0.73605895\ndoc number: 367    has similarity of 0.7285261\ndoc number: 737    has similarity of 0.7270027\ndoc number: 322    has similarity of 0.7247574\ndoc number: 60    has similarity of 0.723337\ndoc number: 361    has similarity of 0.72329915\ndoc number: 378    has similarity of 0.7216045\ndoc number: 86    has similarity of 0.7211177\ndoc number: 195    has similarity of 0.71997213\ndoc number: 427    has similarity of 0.71836555\ndoc number: 154    has similarity of 0.7177487\ndoc number: 434    has similarity of 0.71673095\ndoc number: 537    has similarity of 0.7160292\ndoc number: 515    has similarity of 0.71340585\ndoc number: 426    has similarity of 0.71215355\ndoc number: 140    has similarity of 0.712086\ndoc number: 394    has similarity of 0.7090934\ndoc number: 460    has similarity of 0.7079731\ndoc number: 701    has similarity of 0.6983236\ndoc number: 576    has similarity of 0.6981071\ndoc number: 32    has similarity of 0.6976732\ndoc number: 395    has similarity of 0.6975053\ndoc number: 660    has similarity of 0.69697183\ndoc number: 709    has similarity of 0.69458723\ndoc number: 697    has similarity of 0.6933857\ndoc number: 193    has similarity of 0.6894428\ndoc number: 440    has similarity of 0.68939644\ndoc number: 441    has similarity of 0.68836963\ndoc number: 672    has similarity of 0.6881926\ndoc number: 505    has similarity of 0.687178\ndoc number: 725    has similarity of 0.68708515\ndoc number: 385    has similarity of 0.6864897\ndoc number: 606    has similarity of 0.68596035\ndoc number: 493    has similarity of 0.6853824\ndoc number: 680    has similarity of 0.6847863\ndoc number: 734    has similarity of 0.684747\ndoc number: 563    has similarity of 0.6821582\ndoc number: 299    has similarity of 0.681093\ndoc number: 284    has similarity of 0.6805163\ndoc number: 225    has similarity of 0.6776925\ndoc number: 251    has similarity of 0.67494154\ndoc number: 103    has similarity of 0.67475927\ndoc number: 191    has similarity of 0.6736975\ndoc number: 295    has similarity of 0.67328584\ndoc number: 684    has similarity of 0.6725106\ndoc number: 539    has similarity of 0.67104566\ndoc number: 752    has similarity of 0.6709082\ndoc number: 53    has similarity of 0.6709062\ndoc number: 689    has similarity of 0.6669812\ndoc number: 280    has similarity of 0.66541886\ndoc number: 28    has similarity of 0.66538155\ndoc number: 663    has similarity of 0.6652702\ndoc number: 686    has similarity of 0.6619661\ndoc number: 359    has similarity of 0.66088486\ndoc number: 551    has similarity of 0.6602892\ndoc number: 757    has similarity of 0.65965533\ndoc number: 720    has similarity of 0.6588049\ndoc number: 622    has similarity of 0.6570835\ndoc number: 245    has similarity of 0.65191245\ndoc number: 272    has similarity of 0.6490251\ndoc number: 300    has similarity of 0.6489701\ndoc number: 596    has similarity of 0.6462196\ndoc number: 338    has similarity of 0.6460378\ndoc number: 702    has similarity of 0.6459023\ndoc number: 676    has similarity of 0.6455663\ndoc number: 736    has similarity of 0.64521474\ndoc number: 415    has similarity of 0.6446711\ndoc number: 545    has similarity of 0.6443177\ndoc number: 192    has similarity of 0.6428284\ndoc number: 600    has similarity of 0.6417122\ndoc number: 209    has similarity of 0.64067644\ndoc number: 542    has similarity of 0.6404975\ndoc number: 132    has similarity of 0.6396333\ndoc number: 56    has similarity of 0.6349936\ndoc number: 7    has similarity of 0.6349169\ndoc number: 518    has similarity of 0.6324425\ndoc number: 679    has similarity of 0.6314529\ndoc number: 3    has similarity of 0.6313201\ndoc number: 41    has similarity of 0.6305189\ndoc number: 326    has similarity of 0.6289828\ndoc number: 127    has similarity of 0.628875\ndoc number: 382    has similarity of 0.6249102\ndoc number: 487    has similarity of 0.62048715\ndoc number: 567    has similarity of 0.6188189\ndoc number: 510    has similarity of 0.61857224\ndoc number: 48    has similarity of 0.61646557\ndoc number: 176    has similarity of 0.61646557\ndoc number: 246    has similarity of 0.61646557\ndoc number: 255    has similarity of 0.6156293\ndoc number: 694    has similarity of 0.6156293\ndoc number: 517    has similarity of 0.61374104\ndoc number: 274    has similarity of 0.6136042\ndoc number: 377    has similarity of 0.6135701\ndoc number: 107    has similarity of 0.61241835\ndoc number: 277    has similarity of 0.61042845\ndoc number: 267    has similarity of 0.60965645\ndoc number: 237    has similarity of 0.6076334\ndoc number: 719    has similarity of 0.60640305\ndoc number: 463    has similarity of 0.6058929\ndoc number: 44    has similarity of 0.6055652\ndoc number: 504    has similarity of 0.6055652\ndoc number: 465    has similarity of 0.6043978\ndoc number: 288    has similarity of 0.6041651\ndoc number: 450    has similarity of 0.604139\ndoc number: 83    has similarity of 0.60410035\ndoc number: 336    has similarity of 0.60395706\ndoc number: 554    has similarity of 0.6039119\ndoc number: 472    has similarity of 0.602955\ndoc number: 282    has similarity of 0.60212976\ndoc number: 625    has similarity of 0.60162854\ndoc number: 339    has similarity of 0.60129625\ndoc number: 26    has similarity of 0.60015565\ndoc number: 174    has similarity of 0.60015565\ndoc number: 688    has similarity of 0.59995687\ndoc number: 236    has similarity of 0.5977309\ndoc number: 714    has similarity of 0.59729356\ndoc number: 194    has similarity of 0.59568655\ndoc number: 544    has similarity of 0.59536445\ndoc number: 374    has similarity of 0.59467065\ndoc number: 748    has similarity of 0.5929267\ndoc number: 34    has similarity of 0.59226656\ndoc number: 616    has similarity of 0.5898403\ndoc number: 662    has similarity of 0.58930236\ndoc number: 145    has similarity of 0.58830035\ndoc number: 560    has similarity of 0.5878671\ndoc number: 678    has similarity of 0.5876473\ndoc number: 76    has similarity of 0.58385575\ndoc number: 240    has similarity of 0.5832122\ndoc number: 222    has similarity of 0.5825535\ndoc number: 313    has similarity of 0.5824549\ndoc number: 619    has similarity of 0.58233666\ndoc number: 371    has similarity of 0.5776956\ndoc number: 243    has similarity of 0.57712513\ndoc number: 753    has similarity of 0.5768763\ndoc number: 137    has similarity of 0.5766955\ndoc number: 699    has similarity of 0.5762111\ndoc number: 158    has similarity of 0.57445943\ndoc number: 538    has similarity of 0.5740722\ndoc number: 89    has similarity of 0.57276857\ndoc number: 592    has similarity of 0.57209647\ndoc number: 30    has similarity of 0.57155126\ndoc number: 666    has similarity of 0.5713\ndoc number: 151    has similarity of 0.5708664\ndoc number: 318    has similarity of 0.56932247\ndoc number: 10    has similarity of 0.56878555\ndoc number: 523    has similarity of 0.5675352\ndoc number: 63    has similarity of 0.5669178\ndoc number: 256    has similarity of 0.5665792\ndoc number: 410    has similarity of 0.5628567\ndoc number: 18    has similarity of 0.5624273\ndoc number: 297    has similarity of 0.56203675\ndoc number: 528    has similarity of 0.561411\ndoc number: 91    has similarity of 0.5611798\ndoc number: 640    has similarity of 0.56094646\ndoc number: 693    has similarity of 0.55951285\ndoc number: 586    has similarity of 0.55926305\ndoc number: 636    has similarity of 0.5586084\ndoc number: 215    has similarity of 0.5582452\ndoc number: 652    has similarity of 0.55807555\ndoc number: 540    has similarity of 0.5563241\ndoc number: 543    has similarity of 0.5562197\ndoc number: 81    has similarity of 0.5561643\ndoc number: 196    has similarity of 0.55592984\ndoc number: 231    has similarity of 0.5553415\ndoc number: 533    has similarity of 0.55361134\ndoc number: 601    has similarity of 0.5520748\ndoc number: 72    has similarity of 0.5515051\ndoc number: 483    has similarity of 0.551472\ndoc number: 644    has similarity of 0.5506623\ndoc number: 25    has similarity of 0.55051893\ndoc number: 703    has similarity of 0.550447\ndoc number: 144    has similarity of 0.54882807\ndoc number: 35    has similarity of 0.54836124\ndoc number: 739    has similarity of 0.54836124\ndoc number: 513    has similarity of 0.54802823\ndoc number: 333    has similarity of 0.5454426\ndoc number: 583    has similarity of 0.545162\ndoc number: 524    has similarity of 0.5444128\ndoc number: 643    has similarity of 0.5441075\ndoc number: 413    has similarity of 0.5440949\ndoc number: 562    has similarity of 0.54373085\ndoc number: 397    has similarity of 0.54318124\ndoc number: 210    has similarity of 0.54191107\ndoc number: 433    has similarity of 0.54124594\ndoc number: 383    has similarity of 0.54101974\ndoc number: 55    has similarity of 0.5394614\ndoc number: 13    has similarity of 0.5379499\ndoc number: 45    has similarity of 0.5321903\ndoc number: 494    has similarity of 0.5321229\ndoc number: 20    has similarity of 0.5312583\ndoc number: 416    has similarity of 0.53122205\ndoc number: 443    has similarity of 0.5297868\ndoc number: 8    has similarity of 0.5292214\ndoc number: 724    has similarity of 0.5273173\ndoc number: 99    has similarity of 0.52671814\ndoc number: 602    has similarity of 0.52646244\ndoc number: 624    has similarity of 0.5262185\ndoc number: 621    has similarity of 0.5250534\ndoc number: 633    has similarity of 0.5234512\ndoc number: 54    has similarity of 0.5231229\ndoc number: 408    has similarity of 0.5220516\ndoc number: 346    has similarity of 0.5217494\ndoc number: 341    has similarity of 0.5212386\ndoc number: 458    has similarity of 0.52100414\ndoc number: 366    has similarity of 0.5204711\ndoc number: 670    has similarity of 0.5195865\ndoc number: 260    has similarity of 0.51910603\ndoc number: 285    has similarity of 0.5182343\ndoc number: 534    has similarity of 0.51654947\ndoc number: 124    has similarity of 0.51644284\ndoc number: 717    has similarity of 0.5162994\ndoc number: 164    has similarity of 0.5160395\ndoc number: 477    has similarity of 0.5159136\ndoc number: 649    has similarity of 0.51431304\ndoc number: 657    has similarity of 0.51354\ndoc number: 123    has similarity of 0.51337045\ndoc number: 525    has similarity of 0.51333296\ndoc number: 293    has similarity of 0.5127808\ndoc number: 301    has similarity of 0.50948375\ndoc number: 342    has similarity of 0.50921744\ndoc number: 143    has similarity of 0.5089884\ndoc number: 376    has similarity of 0.5080807\ndoc number: 343    has similarity of 0.5072926\ndoc number: 110    has similarity of 0.5069384\ndoc number: 58    has similarity of 0.50650376\ndoc number: 217    has similarity of 0.5064952\ndoc number: 400    has similarity of 0.5055755\ndoc number: 121    has similarity of 0.50495595\ndoc number: 731    has similarity of 0.50495595\ndoc number: 478    has similarity of 0.5037431\ndoc number: 630    has similarity of 0.50310266\ndoc number: 708    has similarity of 0.502964\ndoc number: 469    has similarity of 0.5029351\ndoc number: 283    has similarity of 0.50085557\ndoc number: 555    has similarity of 0.50068897\ndoc number: 623    has similarity of 0.50064033\ndoc number: 114    has similarity of 0.50001055\ndoc number: 448    has similarity of 0.50001055\ndoc number: 185    has similarity of 0.49933237\ndoc number: 350    has similarity of 0.49905235\ndoc number: 152    has similarity of 0.4983787\ndoc number: 253    has similarity of 0.49674407\ndoc number: 598    has similarity of 0.49625835\ndoc number: 169    has similarity of 0.49516618\ndoc number: 24    has similarity of 0.49495453\ndoc number: 496    has similarity of 0.49377167\ndoc number: 641    has similarity of 0.4934393\ndoc number: 27    has similarity of 0.4917618\ndoc number: 687    has similarity of 0.49068803\ndoc number: 179    has similarity of 0.4901522\ndoc number: 360    has similarity of 0.48963422\ndoc number: 82    has similarity of 0.48868805\ndoc number: 740    has similarity of 0.48625493\ndoc number: 642    has similarity of 0.48568726\ndoc number: 615    has similarity of 0.48345947\ndoc number: 566    has similarity of 0.48181456\ndoc number: 353    has similarity of 0.48170963\ndoc number: 94    has similarity of 0.4814548\ndoc number: 439    has similarity of 0.48128992\ndoc number: 500    has similarity of 0.48123604\ndoc number: 498    has similarity of 0.480147\ndoc number: 100    has similarity of 0.47981474\ndoc number: 4    has similarity of 0.47860748\ndoc number: 258    has similarity of 0.4783409\ndoc number: 349    has similarity of 0.47735256\ndoc number: 104    has similarity of 0.47621316\ndoc number: 229    has similarity of 0.47597605\ndoc number: 46    has similarity of 0.47403938\ndoc number: 470    has similarity of 0.4732955\ndoc number: 112    has similarity of 0.47155544\ndoc number: 363    has similarity of 0.47130483\ndoc number: 321    has similarity of 0.46954614\ndoc number: 529    has similarity of 0.46949014\ndoc number: 449    has similarity of 0.46930784\ndoc number: 136    has similarity of 0.4688279\ndoc number: 51    has similarity of 0.4685141\ndoc number: 580    has similarity of 0.4677053\ndoc number: 80    has similarity of 0.46743432\ndoc number: 278    has similarity of 0.4656345\ndoc number: 571    has similarity of 0.46422186\ndoc number: 97    has similarity of 0.46350363\ndoc number: 691    has similarity of 0.46266654\ndoc number: 247    has similarity of 0.46091533\ndoc number: 393    has similarity of 0.46033722\ndoc number: 204    has similarity of 0.46017718\ndoc number: 495    has similarity of 0.45842752\ndoc number: 423    has similarity of 0.45782864\ndoc number: 386    has similarity of 0.45636547\ndoc number: 584    has similarity of 0.45636547\ndoc number: 634    has similarity of 0.45636547\ndoc number: 639    has similarity of 0.45471233\ndoc number: 153    has similarity of 0.4488412\ndoc number: 74    has similarity of 0.44882405\ndoc number: 646    has similarity of 0.44720536\ndoc number: 65    has similarity of 0.44682813\ndoc number: 298    has similarity of 0.4463538\ndoc number: 147    has similarity of 0.44582465\ndoc number: 745    has similarity of 0.44533497\ndoc number: 667    has similarity of 0.4452604\ndoc number: 162    has similarity of 0.4444538\ndoc number: 729    has similarity of 0.44434172\ndoc number: 95    has similarity of 0.44410115\ndoc number: 665    has similarity of 0.4436682\ndoc number: 453    has similarity of 0.4430675\ndoc number: 428    has similarity of 0.44295114\ndoc number: 71    has similarity of 0.44264448\ndoc number: 178    has similarity of 0.4419953\ndoc number: 119    has similarity of 0.4418861\ndoc number: 226    has similarity of 0.44136408\ndoc number: 438    has similarity of 0.44084874\ndoc number: 239    has similarity of 0.440835\ndoc number: 436    has similarity of 0.43975118\ndoc number: 491    has similarity of 0.4397462\ndoc number: 396    has similarity of 0.43760264\ndoc number: 294    has similarity of 0.43677512\ndoc number: 157    has similarity of 0.43587443\ndoc number: 516    has similarity of 0.43524954\ndoc number: 368    has similarity of 0.43521136\ndoc number: 389    has similarity of 0.433941\ndoc number: 265    has similarity of 0.43205732\ndoc number: 370    has similarity of 0.43196848\ndoc number: 632    has similarity of 0.43180937\ndoc number: 101    has similarity of 0.4311129\ndoc number: 564    has similarity of 0.43026784\ndoc number: 760    has similarity of 0.42997473\ndoc number: 730    has similarity of 0.42892304\ndoc number: 180    has similarity of 0.42561546\ndoc number: 722    has similarity of 0.42539436\ndoc number: 116    has similarity of 0.4243255\ndoc number: 595    has similarity of 0.4240315\ndoc number: 84    has similarity of 0.42398253\ndoc number: 146    has similarity of 0.42335832\ndoc number: 305    has similarity of 0.42321944\ndoc number: 575    has similarity of 0.42305067\ndoc number: 664    has similarity of 0.42287666\ndoc number: 488    has similarity of 0.42282873\ndoc number: 117    has similarity of 0.42195535\ndoc number: 266    has similarity of 0.42123705\ndoc number: 738    has similarity of 0.42080522\ndoc number: 552    has similarity of 0.4207736\ndoc number: 138    has similarity of 0.42029488\ndoc number: 166    has similarity of 0.42005464\ndoc number: 609    has similarity of 0.41838157\ndoc number: 631    has similarity of 0.41813558\ndoc number: 520    has similarity of 0.41810867\ndoc number: 398    has similarity of 0.4180399\ndoc number: 73    has similarity of 0.41779217\ndoc number: 696    has similarity of 0.41685298\ndoc number: 669    has similarity of 0.4134718\ndoc number: 406    has similarity of 0.41297334\ndoc number: 120    has similarity of 0.41265938\ndoc number: 268    has similarity of 0.41232365\ndoc number: 430    has similarity of 0.4119999\ndoc number: 67    has similarity of 0.4115663\ndoc number: 198    has similarity of 0.4107302\ndoc number: 208    has similarity of 0.40986055\ndoc number: 531    has similarity of 0.40966663\ndoc number: 578    has similarity of 0.40966663\ndoc number: 414    has similarity of 0.40923816\ndoc number: 645    has similarity of 0.40886247\ndoc number: 704    has similarity of 0.4072292\ndoc number: 167    has similarity of 0.40569034\ndoc number: 337    has similarity of 0.40569034\ndoc number: 733    has similarity of 0.4056623\ndoc number: 558    has similarity of 0.40320382\ndoc number: 486    has similarity of 0.4031293\ndoc number: 189    has similarity of 0.40267202\ndoc number: 235    has similarity of 0.4026286\ndoc number: 610    has similarity of 0.40140206\ndoc number: 2    has similarity of 0.40125787\ndoc number: 579    has similarity of 0.40068194\ndoc number: 57    has similarity of 0.39982766\ndoc number: 310    has similarity of 0.3998167\ndoc number: 647    has similarity of 0.39936963\ndoc number: 286    has similarity of 0.39931792\ndoc number: 573    has similarity of 0.39777353\ndoc number: 199    has similarity of 0.39694777\ndoc number: 131    has similarity of 0.39493436\ndoc number: 160    has similarity of 0.39472634\ndoc number: 417    has similarity of 0.392842\ndoc number: 213    has similarity of 0.39208555\ndoc number: 248    has similarity of 0.39000103\ndoc number: 356    has similarity of 0.3895467\ndoc number: 671    has similarity of 0.3893928\ndoc number: 186    has similarity of 0.3886092\ndoc number: 168    has similarity of 0.38654524\ndoc number: 369    has similarity of 0.386454\ndoc number: 569    has similarity of 0.3863288\ndoc number: 673    has similarity of 0.3857932\ndoc number: 311    has similarity of 0.3840116\ndoc number: 14    has similarity of 0.38290074\ndoc number: 661    has similarity of 0.38142943\ndoc number: 331    has similarity of 0.3809982\ndoc number: 650    has similarity of 0.38085338\ndoc number: 744    has similarity of 0.38001594\ndoc number: 522    has similarity of 0.37962654\ndoc number: 129    has similarity of 0.3795468\ndoc number: 445    has similarity of 0.37948832\ndoc number: 85    has similarity of 0.3792935\ndoc number: 638    has similarity of 0.3791775\ndoc number: 754    has similarity of 0.37880537\ndoc number: 392    has similarity of 0.37872773\ndoc number: 257    has similarity of 0.37838256\ndoc number: 171    has similarity of 0.37723476\ndoc number: 446    has similarity of 0.37588176\ndoc number: 304    has similarity of 0.37575907\ndoc number: 559    has similarity of 0.37529486\ndoc number: 230    has similarity of 0.37437117\ndoc number: 568    has similarity of 0.3716247\ndoc number: 743    has similarity of 0.37062544\ndoc number: 405    has similarity of 0.37054706\ndoc number: 582    has similarity of 0.37022665\ndoc number: 637    has similarity of 0.36965418\ndoc number: 364    has similarity of 0.36948302\ndoc number: 29    has similarity of 0.3689437\ndoc number: 279    has similarity of 0.36789095\ndoc number: 309    has similarity of 0.36692226\ndoc number: 96    has similarity of 0.36629802\ndoc number: 447    has similarity of 0.3657338\ndoc number: 261    has similarity of 0.36520672\ndoc number: 749    has similarity of 0.36463296\ndoc number: 79    has similarity of 0.3643573\ndoc number: 335    has similarity of 0.36369723\ndoc number: 549    has similarity of 0.36323935\ndoc number: 78    has similarity of 0.3610593\ndoc number: 102    has similarity of 0.36038604\ndoc number: 332    has similarity of 0.35990486\ndoc number: 674    has similarity of 0.3598246\ndoc number: 420    has similarity of 0.3590724\ndoc number: 479    has similarity of 0.35774037\ndoc number: 480    has similarity of 0.35764074\ndoc number: 461    has similarity of 0.35750705\ndoc number: 468    has similarity of 0.3573271\ndoc number: 249    has similarity of 0.35731286\ndoc number: 651    has similarity of 0.35723954\ndoc number: 133    has similarity of 0.3565578\ndoc number: 746    has similarity of 0.35519147\ndoc number: 264    has similarity of 0.35418183\ndoc number: 61    has similarity of 0.35366976\ndoc number: 635    has similarity of 0.35242936\ndoc number: 381    has similarity of 0.35188758\ndoc number: 252    has similarity of 0.3514542\ndoc number: 387    has similarity of 0.3512964\ndoc number: 203    has similarity of 0.351279\ndoc number: 572    has similarity of 0.35059983\ndoc number: 329    has similarity of 0.35007286\ndoc number: 38    has similarity of 0.34989363\ndoc number: 292    has similarity of 0.3497248\ndoc number: 617    has similarity of 0.34969494\ndoc number: 466    has similarity of 0.34842935\ndoc number: 190    has similarity of 0.3479762\ndoc number: 648    has similarity of 0.34788534\ndoc number: 31    has similarity of 0.3474057\ndoc number: 476    has similarity of 0.34525472\ndoc number: 0    has similarity of 0.34352362\ndoc number: 712    has similarity of 0.34233147\ndoc number: 358    has similarity of 0.34158418\ndoc number: 345    has similarity of 0.34024692\ndoc number: 155    has similarity of 0.33646938\ndoc number: 506    has similarity of0.33646938\ndoc number: 9    has similarity of 0.33605093\ndoc number: 503    has similarity of 0.3359163\ndoc number: 407    has similarity of 0.33490512\ndoc number: 489    has similarity of 0.3348648\ndoc number: 490    has similarity of 0.3348648\ndoc number: 437    has similarity of 0.3344071\ndoc number: 710    has similarity of 0.33375543\ndoc number: 62    has similarity of 0.332912\ndoc number: 273    has similarity of 0.33181307\ndoc number: 467    has similarity of 0.33119643\ndoc number: 128    has similarity of 0.33033568\ndoc number: 526    has similarity of 0.32848948\ndoc number: 536    has similarity of 0.32795852\ndoc number: 442    has similarity of 0.32772964\ndoc number: 597    has similarity of 0.3270831\ndoc number: 611    has similarity of 0.32617477\ndoc number: 33    has similarity of 0.3246719\ndoc number: 340    has similarity of 0.3244188\ndoc number: 212    has similarity of 0.32430816\ndoc number: 270    has similarity of 0.32291377\ndoc number: 541    has similarity of 0.3223115\ndoc number: 399    has similarity of 0.32220176\ndoc number: 608    has similarity of 0.3220631\ndoc number: 685    has similarity of 0.3220631\ndoc number: 521    has similarity of 0.32192284\ndoc number: 202    has similarity of 0.32141358\ndoc number: 93    has similarity of 0.32006612\ndoc number: 482    has similarity of 0.31887472\ndoc number: 603    has similarity of 0.31862664\ndoc number: 139    has similarity of 0.31773517\ndoc number: 388    has similarity of 0.31680393\ndoc number: 424    has similarity of 0.31650144\ndoc number: 658    has similarity of 0.31487283\ndoc number: 655    has similarity of 0.31397507\ndoc number: 69    has similarity of 0.3139419\ndoc number: 379    has similarity of 0.31350338\ndoc number: 452    has similarity of 0.311266\ndoc number: 444    has similarity of 0.31048992\ndoc number: 316    has similarity of 0.31047913\ndoc number: 218    has similarity of 0.31006792\ndoc number: 626    has similarity of 0.3093638\ndoc number: 390    has similarity of 0.30887806\ndoc number: 324    has similarity of 0.30828482\ndoc number: 759    has similarity of 0.3076237\ndoc number: 306    has similarity of 0.307449\ndoc number: 501    has similarity of 0.30736193\ndoc number: 380    has similarity of 0.3045614\ndoc number: 411    has similarity of 0.30445054\ndoc number: 219    has similarity of 0.3038142\ndoc number: 315    has similarity of 0.3033264\ndoc number: 87    has similarity of 0.302968\ndoc number: 681    has similarity of 0.30191123\ndoc number: 214    has similarity of 0.3001178\ndoc number: 320    has similarity of 0.3000024\ndoc number: 727    has similarity of 0.3000024\ndoc number: 88    has similarity of 0.29936543\ndoc number: 308    has similarity of 0.2975859\ndoc number: 254    has similarity of 0.29691824\ndoc number: 161    has similarity of 0.2966135\ndoc number: 52    has similarity of 0.2962212\ndoc number: 70    has similarity of 0.2958122\ndoc number: 125    has similarity of 0.29458195\ndoc number: 425    has similarity of 0.29458195\ndoc number: 677    has similarity of 0.29384848\ndoc number: 459    has similarity of 0.2932901\ndoc number: 15    has similarity of 0.29282165\ndoc number: 401    has similarity of 0.2925702\ndoc number: 108    has similarity of 0.2921802\ndoc number: 431    has similarity of 0.291913\ndoc number: 183    has similarity of 0.29173505\ndoc number: 98    has similarity of 0.28888023\ndoc number: 126    has similarity of 0.28772077\ndoc number: 758    has similarity of 0.28736806\ndoc number: 50    has similarity of 0.28679442\ndoc number: 175    has similarity of 0.2855394\ndoc number: 612    has similarity of 0.28239346\ndoc number: 221    has similarity of 0.28042743\ndoc number: 130    has similarity of 0.2800891\ndoc number: 683    has similarity of 0.27975115\ndoc number: 548    has similarity of 0.2789355\ndoc number: 19    has similarity of 0.27893454\ndoc number: 474    has similarity of 0.27830377\ndoc number: 92    has similarity of 0.27814472\ndoc number: 550    has similarity of 0.27674764\ndoc number: 165    has similarity of 0.27659363\ndoc number: 37    has similarity of 0.27628064\ndoc number: 220    has similarity of 0.27544436\ndoc number: 135    has similarity of 0.27533844\ndoc number: 485    has similarity of 0.2751815\ndoc number: 1    has similarity of 0.27443594\ndoc number: 556    has similarity of 0.2743872\ndoc number: 404    has similarity of 0.27373287\ndoc number: 682    has similarity of 0.27369446\ndoc number: 508    has similarity of 0.27367932\ndoc number: 319    has similarity of 0.27200666\ndoc number: 656    has similarity of 0.27184036\ndoc number: 599    has similarity of 0.26979998\ndoc number: 287    has similarity of 0.26869708\ndoc number: 422    has similarity of 0.26801217\ndoc number: 618    has similarity of 0.26775452\ndoc number: 590    has similarity of 0.26754633\ndoc number: 149    has similarity of 0.2668116\ndoc number: 11    has similarity of 0.2639749\ndoc number: 471    has similarity of 0.2630571\ndoc number: 275    has similarity of 0.26262733\ndoc number: 21    has similarity of 0.26247534\ndoc number: 323    has similarity of 0.26247534\ndoc number: 692    has similarity of 0.26247534\ndoc number: 707    has similarity of 0.26247534\ndoc number: 362    has similarity of 0.2610727\ndoc number: 718    has similarity of 0.26059976\ndoc number: 263    has similarity of 0.2588362\ndoc number: 290    has similarity of 0.2588362\ndoc number: 334    has similarity of 0.2588362\ndoc number: 723    has similarity of 0.2588362\ndoc number: 142    has similarity of 0.25777927\ndoc number: 303    has similarity of 0.2571872\ndoc number: 628    has similarity of 0.25718713\ndoc number: 188    has similarity of 0.2554065\ndoc number: 6    has similarity of 0.2546005\ndoc number: 675    has similarity of 0.25428855\ndoc number: 211    has similarity of 0.25370193\ndoc number: 314    has similarity of 0.25285336\ndoc number: 118    has similarity of 0.25242922\ndoc number: 741    has similarity of 0.25150484\ndoc number: 325    has similarity of 0.25088894\ndoc number: 269    has similarity of 0.2508359\ndoc number: 150    has similarity of 0.250541\ndoc number: 250    has similarity of 0.2502869\ndoc number: 429    has similarity of 0.2502869\ndoc number: 233    has similarity of 0.25025406\ndoc number: 355    has similarity of 0.24944732\ndoc number: 227    has similarity of 0.24809974\ndoc number: 409    has similarity of 0.24807572\ndoc number: 64    has similarity of 0.24787162\ndoc number: 36    has similarity of 0.246773\ndoc number: 613    has similarity of 0.24677263\ndoc number: 588    has similarity of 0.24565534\ndoc number: 507    has similarity of 0.24512029\ndoc number: 659    has similarity of 0.24372163\ndoc number: 735    has similarity of 0.24342152\ndoc number: 291    has similarity of 0.2432824\ndoc number: 201    has similarity of 0.24275428\ndoc number: 75    has similarity of 0.24270716\ndoc number: 565    has similarity of 0.24262984\ndoc number: 365    has similarity of 0.24254802\ndoc number: 462    has similarity of 0.24061236\ndoc number: 302    has similarity of 0.23806983\ndoc number: 514    has similarity of 0.23764887\ndoc number: 627    has similarity of 0.23719236\ndoc number: 348    has similarity of 0.23687996\ndoc number: 327    has similarity of 0.23532778\ndoc number: 535    has similarity of 0.23430172\ndoc number: 197    has similarity of 0.23336576\ndoc number: 16    has similarity of 0.23196723\ndoc number: 418    has similarity of 0.23127893\ndoc number: 502    has similarity of 0.22293928\ndoc number: 373    has similarity of 0.22277132\ndoc number: 115    has similarity of 0.222498\ndoc number: 182    has similarity of 0.22221404\ndoc number: 59    has similarity of 0.22084795\ndoc number: 591    has similarity of 0.21992017\ndoc number: 695    has similarity of 0.21884577\ndoc number: 464    has similarity of 0.2184706\ndoc number: 412    has similarity of 0.21791491\ndoc number: 111    has similarity of 0.2159144\ndoc number: 620    has similarity of 0.21527472\ndoc number: 68    has similarity of 0.2148227\ndoc number: 419    has similarity of 0.2148227\ndoc number: 751    has similarity of 0.2148227\ndoc number: 351    has similarity of 0.21414556\ndoc number: 561    has similarity of 0.21278748\ndoc number: 372    has similarity of 0.21026713\ndoc number: 40    has similarity of 0.20755008\ndoc number: 700    has similarity of 0.20698303\ndoc number: 607    has similarity of 0.2048655\ndoc number: 77    has similarity of 0.20285994\ndoc number: 589    has similarity of 0.20283495\ndoc number: 187    has similarity of 0.20280126\ndoc number: 22    has similarity of 0.20004368\ndoc number: 296    has similarity of 0.1988744\ndoc number: 238    has similarity of 0.19863781\ndoc number: 403    has similarity of 0.19843277\ndoc number: 546    has similarity of 0.19811672\ndoc number: 205    has similarity of 0.19808424\ndoc number: 574    has similarity of 0.19745228\ndoc number: 170    has similarity of 0.19650838\ndoc number: 668    has similarity of 0.19470797\ndoc number: 511    has similarity of 0.19341084\ndoc number: 113    has similarity of 0.19253571\ndoc number: 530    has similarity of 0.19176535\ndoc number: 259    has similarity of 0.18764071\ndoc number: 177    has similarity of 0.18438429\ndoc number: 66    has similarity of 0.18412918\ndoc number: 475    has similarity of 0.18236333\ndoc number: 553    has similarity of 0.17999241\ndoc number: 497    has similarity of 0.17374822\ndoc number: 357    has similarity of 0.17115618\ndoc number: 721    has similarity of 0.17110148\ndoc number: 484    has similarity of 0.16563198\ndoc number: 122    has similarity of 0.16546391\ndoc number: 557    has similarity of 0.16274317\ndoc number: 232    has similarity of 0.16041899\ndoc number: 172    has similarity of 0.16041316\ndoc number: 200    has similarity of 0.15975559\ndoc number: 527    has similarity of 0.15731382\ndoc number: 271    has similarity of 0.15650895\ndoc number: 594    has similarity of 0.15113103\ndoc number: 435    has similarity of 0.14224815\ndoc number: 47    has similarity of 0.13924219\ndoc number: 716    has similarity of 0.13789617\ndoc number: 317    has similarity of 0.13647902\ndoc number: 181    has similarity of 0.13530406\ndoc number: 713    has similarity of 0.13337886\ndoc number: 755    has similarity of 0.1316855\ndoc number: 577    has similarity of 0.12816805\ndoc number: 451    has similarity of 0.12573084\ndoc number: 224    has similarity of 0.12276104\ndoc number: 756    has similarity of 0.1201803\ndoc number: 711    has similarity of 0.11629653\ndoc number: 432    has similarity of 0.11379356\ndoc number: 732    has similarity of 0.11379356\ndoc number: 17    has similarity of 0.110343575\ndoc number: 5    has similarity of 0.1080118\ndoc number: 354    has similarity of 0.107850775\ndoc number: 587    has similarity of 0.10644789\ndoc number: 43    has similarity of 0.105781645\ndoc number: 728    has similarity of 0.10500485\ndoc number: 604    has similarity of 0.1035756\ndoc number: 581    has similarity of 0.10140089\ndoc number: 605    has similarity of 0.0994129\ndoc number: 344    has similarity of 0.09603047\ndoc number: 402    has similarity of 0.0945403\ndoc number: 570    has similarity of 0.09448458\ndoc number: 184    has similarity of 0.09329562\ndoc number: 726    has similarity of 0.087783314\ndoc number: 262    has similarity of 0.085208684\ndoc number: 49    has similarity of 0.0801515\ndoc number: 742    has similarity of 0.079702646\ndoc number: 653    has similarity of 0.07152796\ndoc number: 312    has similarity of 0.068169594\ndoc number: 163    has similarity of 0.0672197\ndoc number: 512    has similarity of 0.06388621\ndoc number: 519    has similarity of 0.05707155\ndoc number: 509    has similarity of 0.05027923\ndoc number: 234    has similarity of 0.048782006\ndoc number: 654    has similarity of 0.041894957\ndoc number: 228    has similarity of 0.039109457\ndoc number: 173    has similarity of 0.033879384\ndoc number: 715    has similarity of 0.033879384\ndoc number: 473    has similarity of 0.020497538\ndoc number: 12    has similarity of 0.016885296\ndoc number: 206    has similarity of 0.016885296\ndoc number: 499    has similarity of 0.012385957\ndoc number: 105    has similarity of 0.0061318725\n"
    }
   ],
   "source": [
    "sims = index[vec_lsi]  # perform a similarity query against the corpus\n",
    "\n",
    "sims = sorted(enumerate(sims), key=lambda item: -item[1])\n",
    "print(\"Similarity of query:\",query,\"\\n\")\n",
    "for i, s in enumerate(sims):\n",
    "    print('doc number:',s[0],'   has similarity of',s[1])"
   ]
  },
  {
   "cell_type": "code",
   "execution_count": null,
   "metadata": {},
   "outputs": [],
   "source": []
  }
 ],
 "metadata": {
  "kernelspec": {
   "display_name": "Python 3.7.6 64-bit ('base': conda)",
   "language": "python",
   "name": "python37664bitbasecondaca3f0cc7a6f64496b0f539afbcd52f18"
  },
  "language_info": {
   "codemirror_mode": {
    "name": "ipython",
    "version": 3
   },
   "file_extension": ".py",
   "mimetype": "text/x-python",
   "name": "python",
   "nbconvert_exporter": "python",
   "pygments_lexer": "ipython3",
   "version": "3.7.7-final"
  }
 },
 "nbformat": 4,
 "nbformat_minor": 4
}