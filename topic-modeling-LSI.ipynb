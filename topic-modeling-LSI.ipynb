{
 "cells": [
  {
   "cell_type": "code",
   "execution_count": 1,
   "metadata": {
    "tags": []
   },
   "outputs": [],
   "source": [
    "import numpy as np\n",
    "import pandas as pd\n",
    "\n",
    "import re\n",
    "from nltk.corpus import stopwords\n",
    "import nltk\n",
    "import gensim\n",
    "import gensim.corpora as corpora\n",
    "from gensim.models import CoherenceModel, LsiModel, LdaModel\n",
    "\n",
    "from nltk.stem import WordNetLemmatizer\n",
    "stop_words = stopwords.words('english')"
   ]
  },
  {
   "cell_type": "code",
   "execution_count": 17,
   "metadata": {},
   "outputs": [
    {
     "output_type": "execute_result",
     "data": {
      "text/plain": "      web_id                                   property_text_en\n0    7023850  Smart Business Real Estate is proud to present...\n1    6905802  My Island Real Estate is proud to present 1 Be...\n2    6998469  New on the market, amazing opportunity for inv...\n3    6766136  1 Bedroom Apartment in Marina Diamond 2\\n\\n- 1...\n4    6940244  No penalty for early contract termination!<br ...\n..       ...                                                ...\n756  6203680  Castles Plaza Real Estate is pleased to bring ...\n757  7090736  The Noble House Real Estate is proud to presen...\n758  7081426  Better Homes would like to present this type 2...\n759  7123539  Morgan‚Äôs International Realty is proud to pr...\n760  7113525  3 Bedroom in Al Reem 1, Arabian Ranches, direc...\n\n[761 rows x 2 columns]",
      "text/html": "<div>\n<style scoped>\n    .dataframe tbody tr th:only-of-type {\n        vertical-align: middle;\n    }\n\n    .dataframe tbody tr th {\n        vertical-align: top;\n    }\n\n    .dataframe thead th {\n        text-align: right;\n    }\n</style>\n<table border=\"1\" class=\"dataframe\">\n  <thead>\n    <tr style=\"text-align: right;\">\n      <th></th>\n      <th>web_id</th>\n      <th>property_text_en</th>\n    </tr>\n  </thead>\n  <tbody>\n    <tr>\n      <th>0</th>\n      <td>7023850</td>\n      <td>Smart Business Real Estate is proud to present...</td>\n    </tr>\n    <tr>\n      <th>1</th>\n      <td>6905802</td>\n      <td>My Island Real Estate is proud to present 1 Be...</td>\n    </tr>\n    <tr>\n      <th>2</th>\n      <td>6998469</td>\n      <td>New on the market, amazing opportunity for inv...</td>\n    </tr>\n    <tr>\n      <th>3</th>\n      <td>6766136</td>\n      <td>1 Bedroom Apartment in Marina Diamond 2\\n\\n- 1...</td>\n    </tr>\n    <tr>\n      <th>4</th>\n      <td>6940244</td>\n      <td>No penalty for early contract termination!&lt;br ...</td>\n    </tr>\n    <tr>\n      <th>...</th>\n      <td>...</td>\n      <td>...</td>\n    </tr>\n    <tr>\n      <th>756</th>\n      <td>6203680</td>\n      <td>Castles Plaza Real Estate is pleased to bring ...</td>\n    </tr>\n    <tr>\n      <th>757</th>\n      <td>7090736</td>\n      <td>The Noble House Real Estate is proud to presen...</td>\n    </tr>\n    <tr>\n      <th>758</th>\n      <td>7081426</td>\n      <td>Better Homes would like to present this type 2...</td>\n    </tr>\n    <tr>\n      <th>759</th>\n      <td>7123539</td>\n      <td>Morgan‚Äôs International Realty is proud to pr...</td>\n    </tr>\n    <tr>\n      <th>760</th>\n      <td>7113525</td>\n      <td>3 Bedroom in Al Reem 1, Arabian Ranches, direc...</td>\n    </tr>\n  </tbody>\n</table>\n<p>761 rows × 2 columns</p>\n</div>"
     },
     "metadata": {},
     "execution_count": 17
    }
   ],
   "source": [
    "df = pd.read_excel('RealEstate.xlsx')\n",
    "df"
   ]
  },
  {
   "cell_type": "markdown",
   "metadata": {},
   "source": [
    "#### Inspecting the first 8 entries"
   ]
  },
  {
   "cell_type": "code",
   "execution_count": 18,
   "metadata": {
    "tags": []
   },
   "outputs": [
    {
     "output_type": "stream",
     "name": "stdout",
     "text": "Smart Business Real Estate is proud to present2Bedrooms for sale locatedat Dubai MarinaElite Residenceon mid floor over looking court yard.\\n\\nProperty currently Rentedat AED 110,000 till25 of June 2020.\\n\\nElite Residenceis ideally locatedat the middle of Dubai Marina area , close to the Tran stationas well Metro stationnear by .surrounding by lots of cafe and restaurants , Marina Walkpromenade , across streetfew5 *Hotels. Dubai Marinais very popularand most desirable place to live.\\n\\nAt the building available facilities:\\nGym\\nPool\\nSecurity 24/7\\nCovered parking .\\n\\nFor more information or viewing appointment, call:\\nSmart Business Real Estate LLC\\nLandline:+971 4 5808525 / 0503474100\\nEmail: info@sbrealestate.ae\\nBRN 11575\\nORN 2104\n\n\nMy Island Real Estate is proud to present 1 Bedroom Apt. in Dubai Marina with Partial Sea View\\n\\n\\nDubai Marina\\nPrincess Tower\\n1 Bedroom Apartment\\nPartial Sea View\\n922.68 sqft\\nUnfurnished Apartment\\n\\n\\n\\nFor more details, please call 056-9576399or email on tanweer@myislandrealestate.com\\n\\n\\n\\nDubai Marina : \\n\\nDubai Marina is an awe-inspiring city-within-a city that delights residents with its cosmopolitan, free-spirited atmosphere and unique, invigorating lifestyle. It is an urban center on the water comparable to the most exclusive waterfront developments in the world&#39;s leading cities, yet unlike anywhere else in Dubai, the Middle East and even the world.\\n \\n\\n\\n\\nMy Island Real Estate :\\n\\n\\nMy Island Real Estate is your independent real estate agent in Dubai. We have a global network of investors, real estate businesses and project developers. This allows us to offer you a wide range of villas and apartments. When it comes to your investment, we fully take your requirements and goals into account and we will accompany you from A to Z in the purchasing process as well as rentals.\n\n\nNew on the market, amazing opportunity for investors. This apartment offers a spacious living room facing the sea, with 3 bedrooms with balconies, a master bedroom with en-suite bathroom, laundry room, and a powder room. It comes with 2 allocated parking.\\n\\nThe Princess Tower is a 101 story, 413.4 m tall residential-only skyscraper located in the Marina district of Dubai, UAE. Princess Tower is currently the third tallest building in Dubai, after the Burj Khalifa and the Marina 101 and the 29th tallest building in the world.\\n\\nFEATURES AND AMENITIES:\\n\\nCar parking\\nHigh-Speed Elevators\\nFull floor Function area on 97th Floor\\nIndoor &amp; Outdoor Swimming Pools\\nGymnasiums\\nChildren Play Areas\\nBilliard and Table Tennis Rooms\\nSauna Rooms\\n\\nFor further details and viewing please contact 055 577 2724\n\n\n1 Bedroom Apartment in Marina Diamond 2\\n\\n- 1 Bedroom Apartment\\n- 572 Sq. Ft\\n- Vacant Soon\\n- Close to Metro\\n- Easy Access to Marina Walk\\n- Walking Distance to JBR\\n- Pool and Gym\\n- Reference No.: PJM191071\\n- Agent: Daniel Heywood on +971501138670, RERA BRN No. 37490\\n- RERA Permit No. 1363936729\\n\\nThis 1-bedroom apartment in Marina Diamond 2 is offered vacant on transfer.\\n\\nThe property is in immaculate condition and benefits from a large outdoor terrace.\\n\\nMarina Diamond benefits from being walk distance to the metro, marina walk and JBR all the amenities these areas have to offer.\\n\\nMarina Diamond 2 also offers a large outdoor pool, gym, sauna, and steam room.\\n\\nProperty Sales Reference: PJM191071\\n\\nFinance is available on this property through Allsopp &amp; Allsopp Mortgage Services.\\n\\nFor further details or to arrange a viewing appointment please contact our Head Office on +9714294444, alternatively visit our website www.allsoppandallsopp.com.\\n\\nPlease call Daniel Heywood on +971501138670 for more information or to arrange a viewing.\n\n\nNo penalty for early contract termination!<br />\\n*Price varies by duration of stay:\\n12+ month lease: AED 8,000* / mo\\n6 to 12 month lease: AED 11,000* / mo\\n2 to 6 month lease: AED 12,500* / mo\\n1 to 2 month lease: AED 13,500 / mo\\n\\n*Prices quoted are applicable only if billed upfront for the entire duration of the contract. Utilities are included for leases up to 11 months. Prices are exclusive of any taxes.\\n\\nBook online!\\nhttps://www.theblueground.com/furnished-apartments-dubai-uae/marina-jbr-marina-elite-residence-261?utm_source=classified-2\\n\\n<b>Designed With You In Mind</b>\\n\\nThoughtfully designed with bespoke finishes, modern furnishings, and a fully-equipped kitchen, you'll enjoy that ‚ÄúI'm home‚Äù feeling with this Blueground apartment. Whether you're lounging in your beautiful living room streaming the latest and greatest entertainment on the smart TV or premium wireless speaker, or getting some well-earned rest on the superior quality mattress with luxury linens, you'll fall in love with everything this Marina apartment has to offer.This apartment also offers in-apartment laundry. (#DXB261)\\n\\n<p><b>Amenities</b></p>\\n<ul><li>- 24/7 Security</li>\\n<li>- Swimming Pool</li>\\n<li>- Gym</li>\\n<li>- Sauna/Steam Room</li>\\n<li>- Indoor Parking</li>\\n<li>- Private Garden</li>\\n<li>- Garden</li>\\n<li>- Elevator</li>\\n</ul><b>Arrival And Ongoing Support</b><br /><ul><li>- Personally greeted or self check-in</li>\\n<li>- Full Maintenance and Technical Support / cleaning requests at a click of a button</li>\\n</ul><b>Ideally Located</b>\\n\\nThis furnished apartment is situated in Dubai‚Äôs Marina, a popular area because of its waterfront location. The area includes the Dubai Marina Mall featuring a large cinema, eateries and shops. Also, the Marina Walk offers restaurant guests outdoor seating with gorgeous views overlooking the water.\n\n\nPROPERTY DETAILS: \\nDUBAI MARINA \\nELITE RESIDENCE \\n2 BEDROOM \\nSIZE: 1341 SQ.FT \\nPRICE : 90K \\nPAYMENT : 4 CHQS \\nFOR MORE INFORMATION PLEASE 0551365428 OR 528769481 \\nORN: 11927\\nBRN: 42982\\nOWNERS LIST YOUR PROPERTIES WITH US, WE SPECIALISE IN SALES AND RENTALS IN ALL FREEHOLD AND LEASEHOLD AREAS OF DUBAI IN BOTH RESIDENTIAL AND COMMERCIAL\\nINSIGHT PROPERTIES\\nWe are a real estate brokerage company headquartered in Dubai. Established in 2012, we provide the most innovative and cost effective real estate solutions to our clients.\\nWe are one of the fastest growing companies with an objective of acting as professional brokers for buying, selling &amp; leasing of residential and commercial properties in UAE.\\nWe have a team of specialists with the expertise to provide a full range of services in residential and commercial properties in Dubai. Our agents have a reputation for reliability and prudence in providing clients with real estate sales, investment planning, building of property portfolio &amp; leasing services.\n\n\nSmart Business Real Estate is pleased to offer this 2Bedroom apartment in Elite Residence, Dubai Marina.\\n\\n‚Ä¢ Vacant and Ready to Move in:\\n‚Ä¢ 1- 2 chqs\\n‚Ä¢ Sea and Community View\\n‚Ä¢ 2 Bedroom\\n‚Ä¢ Price AED 100,000\\n‚Ä¢ Mid Floor\\n‚Ä¢ Vacant\\n‚Ä¢ Balcony\\n‚Ä¢ Furnished \\n‚Ä¢ Close to the Mina Seyahi Tram stop and DAMAC metro Station \\n‚Ä¢ Closeto Beach\\n Open Kitchen with Appliances\\n‚Ä¢ Master bedroom is En-suite with built in closet\\n‚Ä¢ 1 Parking \\n‚Ä¢ Close to Skydive Dubai \\n\\n Elite Residence is centered in one of the most envied neighborhoods in Dubai.\\n\\nSituated in the heart of one of the most renowned destinations in Dubai and one of its most sought after residential properties. Amongst the world's tallest buildings, Elite Residence reaches high above the exclusive Dubai Marina. The imposing 91-storey tower makes a statement of luxury living in a city that has it all.\\nDubai Sufouh Tram passing directly in front of the tower, Elite residence will offer residents convenient and easy transport connections to Dubai Metro stations along Sheikh Zayed Road.\\n\\nCall:\\nIrina - 0555758838\\nSmart Business Real Estate\\nlisting@sbrealestate.ae\n\n\nGFA Real Estate is proud to present this spacious 2 Bedroom Apartment in Elite Residences, Dubai Marina.\\n\\nSelling Price AED 2,200,000\\n\\n1330 Sq Ft\\nBedroom with en-suited bath\\nBuilt in wardrobes\\nPowder room\\nFull Sea view\\nUpgraded interior\\nHigh Floor\\n\\nApartment is spacious and has been upgraded. Large windows in bedroom and hall with full magnificent sea view. \\namenities such as car-parking, swimming pools, spas, reception areas, health clubs, a business center and a gymnasium.\\nThe skyscraper has 695 apartments, and 12 elevators.\\nElite Residence is a supertall skyscraper in Dubai, United Arab Emirates in the Dubai Marina district, overlooking one of the manmade palm islands, Palm Jumeirah. The building stands 380.5 metres (1,248 ft) tall and has 87 floors.\\n\\n\\n\\nFor Viewing and more info call +971 50 514 8801 / +971 4 874 7619 or visit www.gfarealestate.net\n\n\nThe Elite Residence Tower in Dubai Marina offers a spectacular panoramic sea view and combines convenience, comfort, and luxury with its modern day d√©cor and perfect location. \\n\\nThis beautiful one bed luxury apartment offers a self contained living space with all the facilities you'd expect.\\n\\nWith spacious living room and dining area, fully-fitted kitchen complete with modern facilities, one bedroom with built-in wardrobes, central air-conditioning and 24/7 security services.\\n\\nIncluded in your accommodation is a flat-screen satellite TV and free Wi-Fi access is available in all rooms. This vacation home can accommodate up to 3 people.\\n\\nElite Residence Tower provides indoor and outdoor swimming pools, a fully-equipped gym, children's play area and private parking space.\\n\\nWell located, this property is close to all the leading attractions in Dubai.\\n\\nPRICES MAY VARY DEPENDING ON SEASONS.\\n \\nFor more information please contact us on:\\n\\n+97143380033 / Mr. Sadam: +971526009503/ Mr. Ihshan: +971526404849\n\n\n"
    }
   ],
   "source": [
    "# Inspecting the first 8 entries\n",
    "for entry in df.loc[0:8,'property_text_en']:\n",
    "    print(entry)\n",
    "    print()\n",
    "    print()"
   ]
  },
  {
   "cell_type": "markdown",
   "metadata": {},
   "source": [
    "#### Here we notice the text includes a lot of:\n",
    "- html\n",
    "- '\\n' which means new line\n",
    "- phone numbers starting with + sign \n",
    "    - many formats\n",
    "    - +xxx xx xxx xxxx\n",
    "    - +xxx x xxx xxxx\n",
    "    - +xxxxxxxxxxxx\n",
    "    - xxxxx (continuous block of numbers)\n",
    "    - xxxx,xxxx\n",
    "- special characters\n",
    "- emails\n",
    "\n",
    "So we need to preprocess the data and clean it"
   ]
  },
  {
   "cell_type": "markdown",
   "metadata": {},
   "source": [
    "Method for preprocessing each document"
   ]
  },
  {
   "cell_type": "code",
   "execution_count": 34,
   "metadata": {},
   "outputs": [],
   "source": [
    "from nltk.corpus import wordnet\n",
    "# method used to get the correct pos tag for correct lemmatization since nltk assumes all words are nouns which results in wrong lemmatization without specifying the correct pos\n",
    "def get_pos(word):\n",
    "    # WordNet Lemmatizer needs a pos to correctly lemmatize words. \n",
    "    # WordNet accepts pos in formats: 'wordnet.NOUN' 'wordnet.VERB' 'wordnet.ADJ' 'wordnet.ADV' for noun, verb, adj, adverb, respectively\n",
    "    # to map nltk pos tags to wordnet pos tags we get the first letter out of the nltk pos tag and map it to a wordnet tag\n",
    "\n",
    "    # get the nltk pos tag \n",
    "    pos = nltk.pos_tag([word])\n",
    "    #outputs: [('playing', 'VBG')]\n",
    "\n",
    "    # get the first letter of the nltk pos tag\n",
    "    pos = pos[0][1][0]\n",
    "\n",
    "    pos_tags = {\n",
    "        \"N\": wordnet.NOUN,\n",
    "        \"V\": wordnet.VERB,\n",
    "        \"J\": wordnet.ADJ,\n",
    "        \"R\": wordnet.ADV,\n",
    "        \"default\": wordnet.NOUN\n",
    "    }\n",
    "    # if the pos tag doesnt match any key, return wordnet.NOUN as a default\n",
    "    return pos_tags.get(pos, pos_tags['default'])\n",
    "    \n"
   ]
  },
  {
   "cell_type": "code",
   "execution_count": 35,
   "metadata": {
    "tags": []
   },
   "outputs": [],
   "source": [
    "\n",
    "def preprocessing(document):\n",
    "    document = document.lower()\n",
    "\n",
    "    #removing the html\n",
    "    document = re.sub(r'(\\<[ ]?[a-z]+>|\\<\\/[a-z]+\\>)', ' ', document)\n",
    "    # noticed that '<' stayed for some reason, so removing them\n",
    "    document = re.sub(r'<', ' ', document)\n",
    "    \n",
    "    # removing emails\n",
    "    document = re.sub(r'\\S+@\\S+', ' ', document)\n",
    "    # removing \\n\n",
    "    document = re.sub(r'(\\\\n)', \" \", document)\n",
    "    # removing numbers of this formats:\n",
    "    # - xxxx,xxxx (numbers with commas)\n",
    "    document = re.sub(r'(\\d+),(\\d+),?(\\d*)', \" \", document)\n",
    "    # removing numbers of all other formats\n",
    "    document = re.sub(r'(\\+)?\\d+[ ]?\\d*[ ]?\\d*[ ]?\\d*', ' ', document)\n",
    "    # removing characters like ? ! : ; \\n \\\n",
    "    document = re.sub('[*.?!,:;/&]', ' ', document)\n",
    "    # removal of --\n",
    "    document = re.sub(r'--',\" \", document)\n",
    "\n",
    "    document = \" \".join([word for word in document.split() if len(word) > 3 ])\n",
    "    \n",
    "    document = \" \".join([word for word in document.split() if word not in stop_words])\n",
    "    \n",
    "    document = \" \".join([WordNetLemmatizer().lemmatize(word, get_pos(word)) for word in document.split()])\n",
    "    \n",
    "    return document"
   ]
  },
  {
   "cell_type": "code",
   "execution_count": 66,
   "metadata": {
    "tags": []
   },
   "outputs": [
    {
     "output_type": "execute_result",
     "data": {
      "text/plain": "'I went to the supermarket and bought a lot of fruits and vegetables'"
     },
     "metadata": {},
     "execution_count": 66
    }
   ],
   "source": [
    "word = WordNetLemmatizer().lemmatize('', pos=wordnet.VERB)\n",
    "word"
   ]
  },
  {
   "cell_type": "code",
   "execution_count": 36,
   "metadata": {
    "tags": [
     "outputPrepend"
    ]
   },
   "outputs": [
    {
     "output_type": "stream",
     "name": "stdout",
     "text": "ne primary email \n\nbefore lemmatization: \n fully furnished apartment partial view near beach park bathroom access easy access marina walk metro access gorgeous swimming pool call nessa unique apartment elite residence supertall skyscraper dubai united arab emirate dubai marina district overlooking manmade palm island palm jumeirah building stand tall floor easy access tram marina beach call nessa information arrange viewing appointment please contact head office alternatively visit dacha-re find extensive selection property available sale rent\nafter lemmatization\n fully furnish apartment partial view near beach park bathroom access easy access marina walk metro access gorgeous swim pool call nessa unique apartment elite residence supertall skyscraper dubai united arab emirate dubai marina district overlook manmade palm island palm jumeirah building stand tall floor easy access tram marina beach call nessa information arrange view appointment please contact head office alternatively visit dacha-re find extensive selection property available sale rent \n\nbefore lemmatization: \n candour real estate broker pleased offer fantastic -bedroom apartment rent en-suite balcony elite residence dubai marina dubai property detail high floor suite guest washroom parking space¬† open equipped kitchen nice layout apartment vacated sept elite residence elite residence made luxury apartment ranging one-bedroom unit four-bedroom penthouse situated dubai marina panoramic view offered surrounding landscape including palm jumeirah arabian gulf program includes fully equipped sport recreational facility including indoor outdoor swimming pool billiards table tennis room multi-function room separate children‚äôs play area retail facility hour security inquiry viewing please call kamaldeep jandu candour real estate broker leading service company specialising brokerage residential commercial property presence dubai georgia india candour real estate broker rera visit candourproperty\nafter lemmatization\n candour real estate broker pleased offer fantastic -bedroom apartment rent en-suite balcony elite residence dubai marina dubai property detail high floor suite guest washroom parking space¬† open equip kitchen nice layout apartment vacate sept elite residence elite residence make luxury apartment range one-bedroom unit four-bedroom penthouse situate dubai marina panoramic view offer surround landscape include palm jumeirah arabian gulf program include fully equip sport recreational facility include indoor outdoor swim pool billiards table tennis room multi-function room separate children‚äôs play area retail facility hour security inquiry view please call kamaldeep jandu candour real estate broker lead service company specialise brokerage residential commercial property presence dubai georgia india candour real estate broker rera visit candourproperty \n\nbefore lemmatization: \n betterhomes delighted present stunning high floor bedroom apartment sale located elite residence bedroom spread sqft spacious living dining room open plan equipped kitchen appliance cooker refrigerator washing machine bedroom en-suite bathroom built-in wardrobe living bedroom offer spectacular view palm jumeirah especially sunset elite residence exemplary symbol luxury elegance service caters taste affluent look quality convenience situated walking distance dubai tram well marina walk restaurant retail shop nearby apartment coziness spaciousness great renting potential demand expat luxury modern living stunning view palm call betterhomes viewing information\nafter lemmatization\n betterhomes delighted present stun high floor bedroom apartment sale locate elite residence bedroom spread sqft spacious living din room open plan equip kitchen appliance cooker refrigerator wash machine bedroom en-suite bathroom built-in wardrobe living bedroom offer spectacular view palm jumeirah especially sunset elite residence exemplary symbol luxury elegance service caters taste affluent look quality convenience situate walk distance dubai tram well marina walk restaurant retail shop nearby apartment coziness spaciousness great rent potential demand expat luxury modern living stun view palm call betterhomes view information \n\nbefore lemmatization: \n dear valued client beautiful well maintained freshly painted cleaned studio apartment balcony reserved covered parking available rent marina diamond dubai marina chiller cooking free marina diamond known first property project developed dubai marina area representing major dubai landmark vital part dubai story consists tower total apartment ranging studio bedroom unit completed handed respective owner marina diamond residential building building located close dubai internet city jumeirah lake tower dubai medial city resident easy access so-called marina walk luxury beach resort facility amenitie fire fighting equipment high speed elevator sauna gymnasium swimming pool covered parking hour security call masroor ahmad\nafter lemmatization\n dear value client beautiful well maintain freshly paint clean studio apartment balcony reserve cover parking available rent marina diamond dubai marina chiller cooking free marina diamond know first property project developed dubai marina area represent major dubai landmark vital part dubai story consists tower total apartment range studio bedroom unit complete hand respective owner marina diamond residential building building locate close dubai internet city jumeirah lake tower dubai medial city resident easy access so-called marina walk luxury beach resort facility amenitie fire fight equipment high speed elevator sauna gymnasium swim pool cover parking hour security call masroor ahmad \n\nbefore lemmatization: \n noble house luxury real estate proud present full floor apartment considered many dubai prestigious address reve beautiful apartment interior space terrace area offer stunning view dubai marina andpanoramic view burj arab palm jumeirah vacant bedroom home offer desiring owner residence finest detail luxury comfort apartment large bedroom en-suite bathroom master large dressing room lounge area built walk vault state home theatre room three ensuite guest bedroom private medium room open kitchen equipped integrated miele sub-zero appliance accommodation chauffeur parking level staff quarter separate entrance detail picture property call noble house real estate visit website\nafter lemmatization\n noble house luxury real estate proud present full floor apartment consider many dubai prestigious address reve beautiful apartment interior space terrace area offer stun view dubai marina andpanoramic view burj arab palm jumeirah vacant bedroom home offer desire owner residence fine detail luxury comfort apartment large bedroom en-suite bathroom master large dress room lounge area built walk vault state home theatre room three ensuite guest bedroom private medium room open kitchen equip integrate miele sub-zero appliance accommodation chauffeur parking level staff quarter separate entrance detail picture property call noble house real estate visit website \n\nbefore lemmatization: \n duplex sqft high floor spacious layout incredible view dubai marina golf course vacant october separate kitchen dining spacious living area entrance floor ensuite guest bathroom call princess tower located dubai marina tallest residential tower world offering spectacular view dubai marina palm jumeirah emirate golf course within development resident offered hotel standard amenity including indoor outdoor swimming pool lounging area highest floor sauna steam room state modern children‚äôs play area bedroom duplex split floor giving feel villa floor ceiling window overlooking dubai marina golf course entrance open onto hallway spacious living area separate kitchen dining area well guest bathroom higher level bedroom separate entrance door ensuites call senior sale consultant\nafter lemmatization\n duplex sqft high floor spacious layout incredible view dubai marina golf course vacant october separate kitchen din spacious living area entrance floor ensuite guest bathroom call princess tower locate dubai marina tallest residential tower world offering spectacular view dubai marina palm jumeirah emirate golf course within development resident offer hotel standard amenity include indoor outdoor swim pool lounge area high floor sauna steam room state modern children‚äôs play area bedroom duplex split floor give feel villa floor ceiling window overlook dubai marina golf course entrance open onto hallway spacious living area separate kitchen din area well guest bathroom high level bedroom separate entrance door ensuites call senior sale consultant \n\nbefore lemmatization: \n engel voelkers proudly offer sale amazing bedroom apartment sale princess tower dubai marina property detail bathroom -kitchen appliance -full view facility parking space basement -swimming pool -sauna -gym -playing area -supermarket -restaurants -landscaped podium -close dubai marina mall hour security princess tower world tallest residential building floor ground (council tall building urban habitat guinness world record marina ideal cosmopolitan riviera-style community offering premium living -star dining entertainment leisure facility marina mall white beach self-contained promise unique modern up-scale living experience close proximity water engel voelkers world leading service company specializing brokerage residential commercial property yacht aviation office country\nafter lemmatization\n engel voelkers proudly offer sale amaze bedroom apartment sale princess tower dubai marina property detail bathroom -kitchen appliance -full view facility parking space basement -swimming pool -sauna -gym -playing area -supermarket -restaurants -landscaped podium -close dubai marina mall hour security princess tower world tallest residential building floor ground (council tall building urban habitat guinness world record marina ideal cosmopolitan riviera-style community offering premium living -star din entertainment leisure facility marina mall white beach self-contained promise unique modern up-scale living experience close proximity water engel voelkers world lead service company specialize brokerage residential commercial property yacht aviation office country \n\nbefore lemmatization: \n live dubai exclusive call mohsin beautifull reint dubai marina price tower higher floor best bldg dubai marina rent deposit commission dubai marina price tower type vacant bathroom parking floor sqft= seaviews international real estate broker livedubai since team operational property market turning dubai opening freehold market local knowledge custom right helped hundred client maintain efficient smooth running investment dear landlord home valued tenant livedubai\nafter lemmatization\n live dubai exclusive call mohsin beautifull reint dubai marina price tower high floor best bldg dubai marina rent deposit commission dubai marina price tower type vacant bathroom parking floor sqft= seaviews international real estate broker livedubai since team operational property market turn dubai opening freehold market local knowledge custom right help hundred client maintain efficient smooth run investment dear landlord home value tenant livedubai \n\nbefore lemmatization: \n castle plaza real estate pleased bring market following property sale princess tower apartment size sqft vacant transfer partial view pool view conveniently located waterfront community asking price feature amenity parking high speed elevator full floor function area floor indoor outdoor swimming pool gymnasium child play area billiard table tennis room sauna room landscaped podium retail outlet guinness world record (may officially recognized tameer princess tower dubai marina world tallest residential building towering dubai skyline floor ground rising proud among many dubai wonder like burj arab madinat jumeirah palm jumeirah princess tower surrounded world renowned -star hotel flourishing beach resort cosmopolitan restaurant stylish night club princess tower offer mixture dynamic exciting lifestyle calm serenity living diversified entertaining area dubai mall emirate marina mall battuta mall multi-cultural school reputed university based knowledge village minute away make living princess tower ideal call sophia karipova detail\nafter lemmatization\n castle plaza real estate pleased bring market follow property sale princess tower apartment size sqft vacant transfer partial view pool view conveniently locate waterfront community ask price feature amenity parking high speed elevator full floor function area floor indoor outdoor swim pool gymnasium child play area billiard table tennis room sauna room landscape podium retail outlet guinness world record (may officially recognize tameer princess tower dubai marina world tallest residential building tower dubai skyline floor ground rise proud among many dubai wonder like burj arab madinat jumeirah palm jumeirah princess tower surround world renowned -star hotel flourish beach resort cosmopolitan restaurant stylish night club princess tower offer mixture dynamic excite lifestyle calm serenity living diversified entertain area dubai mall emirate marina mall battuta mall multi-cultural school repute university base knowledge village minute away make living princess tower ideal call sophia karipova detail \n\nbefore lemmatization: \n noble house real estate proud present full floor apartment considered many dubai prestigious address reve beautiful apartment square foot interior space square foot terrace area posse beautiful view dubai marina stunning panoramic view burj arab palm jumeirah vacant full floor home offer desiring owner residence finest detail luxury comfort beautiful open kitchen equipped integrated miele sub-zero appliance large bedroom en-suite bathroom dressing room lounge area built-in walk-in vault state home theater room three suite guest bedroom private medium room living accommodation chauffeur parking level staff quarter separate entrance arranged viewing call noble house real estate detail image property visit website\nafter lemmatization\n noble house real estate proud present full floor apartment consider many dubai prestigious address reve beautiful apartment square foot interior space square foot terrace area posse beautiful view dubai marina stun panoramic view burj arab palm jumeirah vacant full floor home offer desire owner residence fine detail luxury comfort beautiful open kitchen equip integrate miele sub-zero appliance large bedroom en-suite bathroom dress room lounge area built-in walk-in vault state home theater room three suite guest bedroom private medium room living accommodation chauffeur parking level staff quarter separate entrance arrange view call noble house real estate detail image property visit website \n\nbefore lemmatization: \n better home would like present type three bedroom plus study maid townhouse reem arabian ranch ready rent july onwards villa excellent condition arabian ranch dubai sought-after residential community go-to development seeking peaceful neighbourhood good quality family housing neighbourhood swimming pool dedicated barbecue area tennis basketball court well lovely landscaped park footpath ranch divided distinct community tree-lined street quiet cul-de-sacs pleasant scenic place live village community centre boast retail outlet cafs restaurant plenty open space bicycle trail footpath making healthy outdoor lifestyle possible development also convenient school several within easy reach within community\nafter lemmatization\n well home would like present type three bedroom plus study maid townhouse reem arabian ranch ready rent july onwards villa excellent condition arabian ranch dubai sought-after residential community go-to development seek peaceful neighbourhood good quality family housing neighbourhood swim pool dedicate barbecue area tennis basketball court well lovely landscape park footpath ranch divide distinct community tree-lined street quiet cul-de-sacs pleasant scenic place live village community centre boast retail outlet cafs restaurant plenty open space bicycle trail footpath make healthy outdoor lifestyle possible development also convenient school several within easy reach within community \n\nbefore lemmatization: \n morgan‚äôs international realty proud present beautiful -bedroom apartment elite residence tower marina fourth-tallest residential building world apartment boast size sqft offer great living space double glazed window give tenant bright ample amount light apartment open plan equipped kitchen lounge specious bedroom build wardrobe property feature large living room open plan kitchen appliance (dishwasher oven fridge washing machine) bathroom allocated parking space ‚ä¢close metro local amenity indoor outdoor swimming pool sauna steam room jacuzzis multi-function room billiard table tennis room well equipped gymnasium playing area retail outlet ground floor landscaped podium hour security nearby attraction amenity marina walk retail leisure district skydive dubai leisure destination emirate golf club golf club walk retail leisure district dubai ferris wheel viewing platform montgomerie golf course golf club black palace beach public beach transport dubai marina jumeira lake tower tecom school emirate international school meadow tender love care (tlc) american university dubai knowledge cube hospital medical center modern dental clinic welcare ambulatory care center\nafter lemmatization\n morgan‚äôs international realty proud present beautiful -bedroom apartment elite residence tower marina fourth-tallest residential building world apartment boast size sqft offer great living space double glaze window give tenant bright ample amount light apartment open plan equip kitchen lounge specious bedroom build wardrobe property feature large living room open plan kitchen appliance (dishwasher oven fridge wash machine) bathroom allocate parking space ‚ä¢close metro local amenity indoor outdoor swim pool sauna steam room jacuzzis multi-function room billiard table tennis room well equip gymnasium play area retail outlet ground floor landscape podium hour security nearby attraction amenity marina walk retail leisure district skydive dubai leisure destination emirate golf club golf club walk retail leisure district dubai ferris wheel view platform montgomerie golf course golf club black palace beach public beach transport dubai marina jumeira lake tower tecom school emirate international school meadow tender love care (tlc) american university dubai knowledge cube hospital medical center modern dental clinic welcare ambulatory care center \n\nbefore lemmatization: \n bedroom reem arabian ranch directly opposite park play area pool prestige real estate proud bring upgraded bedroom bathroom villa heart arabian ranch well-maintained upgraded property extended foyer added bathroom shower villa situated opposite play area pool reem themed established community arabian ranch bringing traditional arabic spanish style architecture situated near retail outlet school public transportation community sure bring convenience feel home heart desert bedroom bath type extended foyer added shower opposite pool play area easy access close entrance square foot beautiful over-sized private garden maid room private bathroom\nafter lemmatization\n bedroom reem arabian ranch directly opposite park play area pool prestige real estate proud bring upgraded bedroom bathroom villa heart arabian ranch well-maintained upgraded property extend foyer add bathroom shower villa situate opposite play area pool reem theme establish community arabian ranch bring traditional arabic spanish style architecture situate near retail outlet school public transportation community sure bring convenience feel home heart desert bedroom bath type extend foyer add shower opposite pool play area easy access close entrance square foot beautiful over-sized private garden maid room private bathroom \n\n"
    }
   ],
   "source": [
    "# apply the method on the documents column\n",
    "df['property_text_en'] = df['property_text_en'].apply(preprocessing)\n"
   ]
  },
  {
   "cell_type": "markdown",
   "metadata": {},
   "source": [
    "Lets see how the text changed after preprocessing"
   ]
  },
  {
   "cell_type": "code",
   "execution_count": 9,
   "metadata": {
    "tags": []
   },
   "outputs": [
    {
     "output_type": "stream",
     "name": "stdout",
     "text": "smart business real estate proud present bedroom sale locatedat dubai marinaelite residenceon floor looking court yard property currently rentedat till june elite residenceis ideally locatedat middle dubai marina area close tran stationas well metro stationnear surrounding lot cafe restaurant marina walkpromenade across streetfew hotel dubai marinais popularand desirable place live building available facility pool security covered parking information viewing appointment call smart business real estate landline email\n\n\nisland real estate proud present bedroom dubai marina partial view dubai marina princess tower bedroom apartment partial view sqft unfurnished apartment detail please call email marina dubai marina awe-inspiring city-within-a city delight resident cosmopolitan free-spirited atmosphere unique invigorating lifestyle urban center water comparable exclusive waterfront development world leading city unlike anywhere else dubai middle east even world island real estate island real estate independent real estate agent dubai global network investor real estate business project developer allows offer wide range villa apartment come investment fully take requirement goal account accompany purchasing process well rental\n\n\nmarket amazing opportunity investor apartment offer spacious living room facing bedroom balcony master bedroom en-suite bathroom laundry room powder room come allocated parking princess tower story tall residential-only skyscraper located marina district dubai princess tower currently third tallest building dubai burj khalifa marina tallest building world feature amenity parking high-speed elevator full floor function area floor indoor outdoor swimming pool gymnasium child play area billiard table tennis room sauna room detail viewing please contact\n\n\nbedroom apartment marina diamond bedroom apartment vacant soon close metro easy access marina walk walking distance pool reference agent daniel heywood rera rera permit -bedroom apartment marina diamond offered vacant transfer property immaculate condition benefit large outdoor terrace marina diamond benefit walk distance metro marina walk amenity area offer marina diamond also offer large outdoor pool sauna steam room property sale reference finance available property allsopp allsopp mortgage service detail arrange viewing appointment please contact head office alternatively visit website allsoppandallsopp please call daniel heywood information arrange viewing\n\n\npenalty early contract termination price varies duration stay month lease month lease month lease month lease price quoted applicable billed upfront entire duration contract utility included lease month price exclusive tax book online http theblueground furnished-apartments-dubai-uae marina-jbr-marina-elite-residence- utm_source=classified- designed mind thoughtfully designed bespoke finish modern furnishing fully-equipped kitchen enjoy ‚äúi'm home‚äù feeling blueground apartment whether lounging beautiful living room streaming latest greatest entertainment smart premium wireless speaker getting well-earned rest superior quality mattress luxury linen fall love everything marina apartment offer apartment also offer in-apartment laundry (#dxb amenity security swimming pool sauna steam room indoor parking private garden garden elevator arrival ongoing support personally greeted self check-in full maintenance technical support cleaning request click button ideally located furnished apartment situated dubai‚äôs marina popular area waterfront location area includes dubai marina mall featuring large cinema eatery shop also marina walk offer restaurant guest outdoor seating gorgeous view overlooking water\n\n\nproperty detail dubai marina elite residence bedroom size price payment chqs information please owner list property specialise sale rental freehold leasehold area dubai residential commercial insight property real estate brokerage company headquartered dubai established provide innovative cost effective real estate solution client fastest growing company objective acting professional broker buying selling leasing residential commercial property team specialist expertise provide full range service residential commercial property dubai agent reputation reliability prudence providing client real estate sale investment planning building property portfolio leasing service\n\n\nsmart business real estate pleased offer bedroom apartment elite residence dubai marina vacant ready move chqs community view bedroom price floor vacant balcony furnished close mina seyahi tram stop damac metro station closeto beach open kitchen appliance master bedroom en-suite built closet parking close skydive dubai elite residence centered envied neighborhood dubai situated heart renowned destination dubai sought residential property amongst world's tallest building elite residence reach high exclusive dubai marina imposing -storey tower make statement luxury living city dubai sufouh tram passing directly front tower elite residence offer resident convenient easy transport connection dubai metro station along sheikh zayed road call irina smart business real\n\n\nreal estate proud present spacious bedroom apartment elite residence dubai marina selling price bedroom en-suited bath built wardrobe powder room full view upgraded interior high floor apartment spacious upgraded large window bedroom hall full magnificent view amenity car-parking swimming pool spa reception area health club business center gymnasium skyscraper apartment elevator elite residence supertall skyscraper dubai united arab emirate dubai marina district overlooking manmade palm island palm jumeirah building stand metre tall floor viewing info call visit gfarealestate\n\n\nelite residence tower dubai marina offer spectacular panoramic view combine convenience comfort luxury modern d√©cor perfect location beautiful luxury apartment offer self contained living space facility expect spacious living room dining area fully-fitted kitchen complete modern facility bedroom built-in wardrobe central air-conditioning security service included accommodation flat-screen satellite free wi-fi access available room vacation home accommodate people elite residence tower provides indoor outdoor swimming pool fully-equipped children's play area private parking space well located property close leading attraction dubai price vary depending season information please contact sadam ihshan\n\n\n"
    }
   ],
   "source": [
    "for document in df.loc[0:8,'property_text_en']:\n",
    "    print(document)\n",
    "    print()\n",
    "    print()"
   ]
  },
  {
   "cell_type": "code",
   "execution_count": 10,
   "metadata": {},
   "outputs": [],
   "source": [
    "#re.sub(r'[\\.\\?\\!\\,\\:\\;\\\\\\\\/\"]', '', df['property_text_en'][0])"
   ]
  },
  {
   "cell_type": "code",
   "execution_count": 46,
   "metadata": {},
   "outputs": [],
   "source": [
    "text = df['property_text_en'].tolist()\n",
    "text = [nltk.word_tokenize(doc) for doc in text]"
   ]
  },
  {
   "cell_type": "code",
   "execution_count": 49,
   "metadata": {},
   "outputs": [],
   "source": [
    "# preparing inputs for the LSI model\n",
    "dictionary = corpora.Dictionary(text)\n"
   ]
  },
  {
   "cell_type": "code",
   "execution_count": 56,
   "metadata": {},
   "outputs": [],
   "source": [
    "corpus = [dictionary.doc2bow(doc) for doc in text]\n"
   ]
  },
  {
   "cell_type": "code",
   "execution_count": 15,
   "metadata": {},
   "outputs": [],
   "source": [
    "lsimodel = LsiModel(corpus=corpus, num_topics=10, id2word=dictionary)"
   ]
  },
  {
   "cell_type": "code",
   "execution_count": 16,
   "metadata": {},
   "outputs": [
    {
     "output_type": "execute_result",
     "data": {
      "text/plain": "[(0,\n  '0.405*\"dubai\" + 0.393*\"marina\" + 0.221*\"apartment\" + 0.212*\"tower\" + 0.195*\"bedroom\" + 0.182*\"room\" + 0.178*\"view\" + 0.172*\"area\" + 0.165*\"property\" + 0.157*\"floor\"'),\n (1,\n  '0.363*\"marina\" + 0.300*\"dubai\" + -0.268*\"bedroom\" + -0.258*\"property\" + -0.213*\"room\" + 0.167*\"tower\" + -0.161*\"study\" + -0.141*\"bathroom\" + -0.141*\"garden\" + -0.138*\"villa\"'),\n (2,\n  '0.504*\"tower\" + 0.341*\"princess\" + 0.301*\"floor\" + -0.289*\"marina\" + -0.175*\"dubai\" + 0.159*\"residential\" + -0.152*\"property\" + 0.152*\"tallest\" + 0.130*\"world\" + -0.125*\"walk\"'),\n (3,\n  '0.432*\"elite\" + 0.425*\"residence\" + -0.232*\"estate\" + -0.232*\"real\" + 0.212*\"room\" + -0.195*\"property\" + -0.172*\"dubai\" + -0.160*\"marina\" + -0.150*\"tower\" + 0.145*\"pool\"'),\n (4,\n  '-0.404*\"real\" + -0.402*\"estate\" + -0.314*\"elite\" + -0.298*\"residence\" + 0.174*\"marina\" + -0.165*\"service\" + 0.162*\"room\" + -0.154*\"property\" + 0.149*\"apartment\" + 0.127*\"bedroom\"'),\n (5,\n  '0.380*\"room\" + 0.346*\"dubai\" + -0.198*\"marina\" + -0.166*\"walk\" + -0.160*\"tower\" + 0.155*\"jumeirah\" + 0.141*\"palm\" + -0.137*\"please\" + -0.136*\"available\" + -0.131*\"call\"'),\n (6,\n  '0.276*\"real\" + 0.273*\"walk\" + 0.270*\"estate\" + -0.261*\"dubai\" + 0.204*\"station\" + 0.188*\"room\" + -0.177*\"property\" + 0.174*\"beach\" + 0.155*\"pool\" + 0.153*\"swimming\"'),\n (7,\n  '0.543*\"apartment\" + 0.218*\"view\" + -0.209*\"dubai\" + -0.161*\"community\" + -0.157*\"ranch\" + -0.150*\"villa\" + -0.135*\"study\" + -0.133*\"property\" + -0.129*\"reem\" + -0.129*\"world\"'),\n (8,\n  '0.278*\"property\" + -0.190*\"kitchen\" + 0.183*\"floor\" + 0.164*\"jumeirah\" + 0.162*\"call\" + -0.157*\"large\" + -0.149*\"tallest\" + -0.133*\"located\" + -0.125*\"world\" + -0.125*\"living\"'),\n (9,\n  '0.319*\"bedroom\" + 0.319*\"floor\" + -0.305*\"property\" + -0.250*\"room\" + -0.161*\"princess\" + -0.119*\"service\" + -0.116*\"rent\" + 0.109*\"high\" + 0.108*\"dubai\" + -0.106*\"outdoor\"')]"
     },
     "metadata": {},
     "execution_count": 16
    }
   ],
   "source": [
    "lsimodel.show_topics(num_topics=10)"
   ]
  },
  {
   "cell_type": "markdown",
   "metadata": {},
   "source": [
    "Lets try it with bigrams instead "
   ]
  },
  {
   "cell_type": "code",
   "execution_count": 17,
   "metadata": {},
   "outputs": [
    {
     "output_type": "execute_result",
     "data": {
      "text/plain": "[(0,\n  '0.405*\"dubai\" + 0.393*\"marina\" + 0.221*\"apartment\" + 0.212*\"tower\" + 0.195*\"bedroom\" + 0.182*\"room\" + 0.178*\"view\" + 0.172*\"area\" + 0.165*\"property\" + 0.157*\"floor\"'),\n (1,\n  '-0.363*\"marina\" + -0.300*\"dubai\" + 0.269*\"bedroom\" + 0.257*\"property\" + 0.213*\"room\" + -0.167*\"tower\" + 0.161*\"study\" + 0.141*\"bathroom\" + 0.141*\"garden\" + 0.138*\"villa\"'),\n (2,\n  '-0.504*\"tower\" + -0.341*\"princess\" + -0.301*\"floor\" + 0.289*\"marina\" + 0.175*\"dubai\" + -0.159*\"residential\" + -0.152*\"tallest\" + 0.152*\"property\" + -0.130*\"world\" + 0.125*\"walk\"'),\n (3,\n  '0.432*\"elite\" + 0.424*\"residence\" + -0.233*\"estate\" + -0.232*\"real\" + 0.211*\"room\" + -0.196*\"property\" + -0.171*\"dubai\" + -0.160*\"marina\" + -0.149*\"tower\" + 0.145*\"pool\"'),\n (4,\n  '0.404*\"real\" + 0.402*\"estate\" + 0.315*\"elite\" + 0.299*\"residence\" + -0.173*\"marina\" + 0.165*\"service\" + -0.162*\"room\" + 0.154*\"property\" + -0.150*\"apartment\" + -0.127*\"bedroom\"'),\n (5,\n  '0.376*\"room\" + 0.349*\"dubai\" + -0.199*\"marina\" + -0.168*\"walk\" + -0.159*\"tower\" + 0.156*\"jumeirah\" + 0.142*\"palm\" + -0.137*\"please\" + -0.136*\"available\" + -0.131*\"call\"'),\n (6,\n  '0.273*\"real\" + 0.272*\"walk\" + 0.267*\"estate\" + -0.258*\"dubai\" + 0.204*\"station\" + 0.194*\"room\" + -0.175*\"property\" + 0.172*\"beach\" + 0.155*\"pool\" + 0.152*\"swimming\"'),\n (7,\n  '-0.542*\"apartment\" + -0.218*\"view\" + 0.211*\"dubai\" + 0.160*\"community\" + 0.156*\"ranch\" + 0.150*\"villa\" + 0.136*\"study\" + 0.135*\"property\" + 0.129*\"world\" + 0.129*\"reem\"'),\n (8,\n  '-0.279*\"property\" + 0.190*\"kitchen\" + -0.183*\"floor\" + -0.164*\"jumeirah\" + -0.162*\"call\" + 0.157*\"large\" + 0.149*\"tallest\" + 0.133*\"located\" + 0.125*\"world\" + 0.125*\"living\"'),\n (9,\n  '-0.318*\"floor\" + -0.317*\"bedroom\" + 0.305*\"property\" + 0.255*\"room\" + 0.158*\"princess\" + 0.119*\"service\" + 0.115*\"rent\" + -0.109*\"high\" + -0.108*\"dubai\" + 0.106*\"outdoor\"')]"
     },
     "metadata": {},
     "execution_count": 17
    }
   ],
   "source": [
    "# Build the bigram and trigram models\n",
    "bigram = gensim.models.Phrases(text, min_count=5, threshold=100) # higher threshold fewer phrases.\n",
    "bigram_mod = gensim.models.phrases.Phraser(bigram)\n",
    "\n",
    "def make_bigrams(texts):\n",
    "    return [bigram_mod[doc] for doc in texts]\n",
    "\n",
    "bigramed_words = make_bigrams(text)\n",
    "\n",
    "bigram_dictionary = corpora.Dictionary(text)\n",
    "bigram_corpus = [dictionary.doc2bow(doc) for doc in text]\n",
    "\n",
    "lsimodel = LsiModel(corpus=bigram_corpus, num_topics=10, id2word=bigram_dictionary)\n",
    "lsimodel.print_topics(num_topics=10)"
   ]
  },
  {
   "cell_type": "code",
   "execution_count": 17,
   "metadata": {
    "tags": []
   },
   "outputs": [
    {
     "output_type": "stream",
     "name": "stdout",
     "text": "\nCoherence Score:  0.4606138617809661\n"
    }
   ],
   "source": [
    "coherence_model_lsi = CoherenceModel(model=lsimodel, texts=text, dictionary=dictionary, coherence='c_v')\n",
    "coherence_lsi = coherence_model_lsi.get_coherence()\n",
    "print('\\nCoherence Score: ', coherence_lsi)\n"
   ]
  },
  {
   "cell_type": "markdown",
   "metadata": {},
   "source": [
    "So we got a coherence score of 0.4\n"
   ]
  },
  {
   "cell_type": "code",
   "execution_count": null,
   "metadata": {},
   "outputs": [],
   "source": []
  },
  {
   "cell_type": "code",
   "execution_count": null,
   "metadata": {},
   "outputs": [],
   "source": []
  }
 ],
 "metadata": {
  "kernelspec": {
   "display_name": "Python 3.7.6 64-bit ('base': conda)",
   "language": "python",
   "name": "python37664bitbasecondaca3f0cc7a6f64496b0f539afbcd52f18"
  },
  "language_info": {
   "codemirror_mode": {
    "name": "ipython",
    "version": 3
   },
   "file_extension": ".py",
   "mimetype": "text/x-python",
   "name": "python",
   "nbconvert_exporter": "python",
   "pygments_lexer": "ipython3",
   "version": "3.7.7-final"
  }
 },
 "nbformat": 4,
 "nbformat_minor": 4
}